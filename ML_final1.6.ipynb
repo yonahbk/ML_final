{
 "cells": [
  {
   "cell_type": "markdown",
   "id": "95a2a475",
   "metadata": {},
   "source": [
    "# Final Project: Heart Disease Detection\n",
    "\n",
    "Yonah Kunin"
   ]
  },
  {
   "cell_type": "markdown",
   "id": "8e856f6c",
   "metadata": {},
   "source": [
    "#### Project Description:\n",
    "\n",
    "In this project, I analyze the \"heart\" dataset and use machine learning models to predict the presence of heart disease in potential patients. The dataset consists of 303 instances, initially containing 13 features as well as the target variable that indicates the presence or absence of heart disease.\n",
    "\n",
    "#### Contents:\n",
    "- Data Preprocessing and EDA\n",
    "- Modeling\n",
    "- Optimization\n",
    "- Ensembling\n",
    "- Evaluation"
   ]
  },
  {
   "cell_type": "markdown",
   "id": "e49aea1e",
   "metadata": {},
   "source": [
    "#### Import necessary libraries"
   ]
  },
  {
   "cell_type": "code",
   "execution_count": 1,
   "id": "5eabb843",
   "metadata": {
    "scrolled": false
   },
   "outputs": [],
   "source": [
    "import numpy as np\n",
    "import pandas as pd\n",
    "import matplotlib.pyplot as plt\n",
    "import seaborn as sns\n",
    "from scipy.stats import mstats\n",
    "from sklearn.model_selection import train_test_split\n",
    "from sklearn.preprocessing import MinMaxScaler, StandardScaler, RobustScaler, MaxAbsScaler\n",
    "from sklearn.linear_model import LogisticRegression\n",
    "from sklearn.model_selection import cross_val_score, StratifiedKFold\n",
    "from sklearn.metrics import accuracy_score, precision_score, recall_score, f1_score, roc_auc_score, classification_report, confusion_matrix\n",
    "from sklearn.model_selection import GridSearchCV\n",
    "from imblearn.over_sampling import RandomOverSampler\n",
    "from sklearn.feature_selection import RFECV\n",
    "from sklearn.model_selection import cross_validate, cross_val_predict\n",
    "from sklearn.pipeline import make_pipeline\n",
    "from sklearn.model_selection import KFold\n",
    "\n",
    "\n",
    "# make matplotlib figures appear inline in the notebook\n",
    "%matplotlib inline\n",
    "plt.rcParams['figure.figsize'] = (10.0, 8.0) # set default size of plots\n",
    "plt.rcParams['image.interpolation'] = 'nearest'\n",
    "plt.rcParams['image.cmap'] = 'gray'\n",
    "\n",
    "# Ignore warnings\n",
    "import warnings\n",
    "warnings.filterwarnings('ignore')"
   ]
  },
  {
   "cell_type": "markdown",
   "id": "fbfd5665",
   "metadata": {},
   "source": [
    "#### Load data"
   ]
  },
  {
   "cell_type": "code",
   "execution_count": 2,
   "id": "6938961f",
   "metadata": {},
   "outputs": [],
   "source": [
    "df = pd.read_csv('heart.csv')"
   ]
  },
  {
   "cell_type": "markdown",
   "id": "ddb462b9",
   "metadata": {},
   "source": [
    "#### Description of features"
   ]
  },
  {
   "cell_type": "raw",
   "id": "833a391a",
   "metadata": {},
   "source": [
    "age (Age of the patient in years)\n",
    "sex (Male/Female)\n",
    "cp chest pain type ([typical angina, atypical angina, non-anginal, asymptomatic])\n",
    "trestbps resting blood pressure (resting blood pressure (in mm Hg on admission to the hospital))\n",
    "chol (serum cholesterol in mg/dl)\n",
    "fbs (if fasting blood sugar > 120 mg/dl)\n",
    "restecg (resting electrocardiographic results)\n",
    "-- Values: [normal, stt abnormality, lv hypertrophy]\n",
    "thalach: maximum heart rate achieved\n",
    "exang: exercise-induced angina (True/ False)\n",
    "oldpeak: ST depression induced by exercise relative to rest\n",
    "slope: the slope of the peak exercise ST segment\n",
    "ca: number of major vessels (0-3) colored by fluoroscopy\n",
    "thal: [normal; fixed defect; reversible defect]\n",
    "num: the predicted attribute"
   ]
  },
  {
   "cell_type": "markdown",
   "id": "a68d098a",
   "metadata": {},
   "source": [
    "# Data Preprocessing & EDA"
   ]
  },
  {
   "cell_type": "markdown",
   "id": "d204e763",
   "metadata": {},
   "source": [
    "#### Data Description"
   ]
  },
  {
   "cell_type": "code",
   "execution_count": 3,
   "id": "e7e7ac36",
   "metadata": {
    "scrolled": false
   },
   "outputs": [
    {
     "data": {
      "text/html": [
       "<div>\n",
       "<style scoped>\n",
       "    .dataframe tbody tr th:only-of-type {\n",
       "        vertical-align: middle;\n",
       "    }\n",
       "\n",
       "    .dataframe tbody tr th {\n",
       "        vertical-align: top;\n",
       "    }\n",
       "\n",
       "    .dataframe thead th {\n",
       "        text-align: right;\n",
       "    }\n",
       "</style>\n",
       "<table border=\"1\" class=\"dataframe\">\n",
       "  <thead>\n",
       "    <tr style=\"text-align: right;\">\n",
       "      <th></th>\n",
       "      <th>age</th>\n",
       "      <th>sex</th>\n",
       "      <th>cp</th>\n",
       "      <th>trestbps</th>\n",
       "      <th>chol</th>\n",
       "      <th>fbs</th>\n",
       "      <th>restecg</th>\n",
       "      <th>thalach</th>\n",
       "      <th>exang</th>\n",
       "      <th>oldpeak</th>\n",
       "      <th>slope</th>\n",
       "      <th>ca</th>\n",
       "      <th>thal</th>\n",
       "      <th>target</th>\n",
       "    </tr>\n",
       "  </thead>\n",
       "  <tbody>\n",
       "    <tr>\n",
       "      <th>0</th>\n",
       "      <td>63</td>\n",
       "      <td>1</td>\n",
       "      <td>3</td>\n",
       "      <td>145</td>\n",
       "      <td>233</td>\n",
       "      <td>1</td>\n",
       "      <td>0</td>\n",
       "      <td>150</td>\n",
       "      <td>0</td>\n",
       "      <td>2.3</td>\n",
       "      <td>0</td>\n",
       "      <td>0</td>\n",
       "      <td>1</td>\n",
       "      <td>1</td>\n",
       "    </tr>\n",
       "    <tr>\n",
       "      <th>1</th>\n",
       "      <td>37</td>\n",
       "      <td>1</td>\n",
       "      <td>2</td>\n",
       "      <td>130</td>\n",
       "      <td>250</td>\n",
       "      <td>0</td>\n",
       "      <td>1</td>\n",
       "      <td>187</td>\n",
       "      <td>0</td>\n",
       "      <td>3.5</td>\n",
       "      <td>0</td>\n",
       "      <td>0</td>\n",
       "      <td>2</td>\n",
       "      <td>1</td>\n",
       "    </tr>\n",
       "    <tr>\n",
       "      <th>2</th>\n",
       "      <td>41</td>\n",
       "      <td>0</td>\n",
       "      <td>1</td>\n",
       "      <td>130</td>\n",
       "      <td>204</td>\n",
       "      <td>0</td>\n",
       "      <td>0</td>\n",
       "      <td>172</td>\n",
       "      <td>0</td>\n",
       "      <td>1.4</td>\n",
       "      <td>2</td>\n",
       "      <td>0</td>\n",
       "      <td>2</td>\n",
       "      <td>1</td>\n",
       "    </tr>\n",
       "    <tr>\n",
       "      <th>3</th>\n",
       "      <td>56</td>\n",
       "      <td>1</td>\n",
       "      <td>1</td>\n",
       "      <td>120</td>\n",
       "      <td>236</td>\n",
       "      <td>0</td>\n",
       "      <td>1</td>\n",
       "      <td>178</td>\n",
       "      <td>0</td>\n",
       "      <td>0.8</td>\n",
       "      <td>2</td>\n",
       "      <td>0</td>\n",
       "      <td>2</td>\n",
       "      <td>1</td>\n",
       "    </tr>\n",
       "    <tr>\n",
       "      <th>4</th>\n",
       "      <td>57</td>\n",
       "      <td>0</td>\n",
       "      <td>0</td>\n",
       "      <td>120</td>\n",
       "      <td>354</td>\n",
       "      <td>0</td>\n",
       "      <td>1</td>\n",
       "      <td>163</td>\n",
       "      <td>1</td>\n",
       "      <td>0.6</td>\n",
       "      <td>2</td>\n",
       "      <td>0</td>\n",
       "      <td>2</td>\n",
       "      <td>1</td>\n",
       "    </tr>\n",
       "  </tbody>\n",
       "</table>\n",
       "</div>"
      ],
      "text/plain": [
       "   age  sex  cp  trestbps  chol  fbs  restecg  thalach  exang  oldpeak  slope  \\\n",
       "0   63    1   3       145   233    1        0      150      0      2.3      0   \n",
       "1   37    1   2       130   250    0        1      187      0      3.5      0   \n",
       "2   41    0   1       130   204    0        0      172      0      1.4      2   \n",
       "3   56    1   1       120   236    0        1      178      0      0.8      2   \n",
       "4   57    0   0       120   354    0        1      163      1      0.6      2   \n",
       "\n",
       "   ca  thal  target  \n",
       "0   0     1       1  \n",
       "1   0     2       1  \n",
       "2   0     2       1  \n",
       "3   0     2       1  \n",
       "4   0     2       1  "
      ]
     },
     "execution_count": 3,
     "metadata": {},
     "output_type": "execute_result"
    }
   ],
   "source": [
    "# View the first few rows of the dataset\n",
    "df.head()"
   ]
  },
  {
   "cell_type": "code",
   "execution_count": 4,
   "id": "02bccdfd",
   "metadata": {},
   "outputs": [
    {
     "name": "stdout",
     "output_type": "stream",
     "text": [
      "<class 'pandas.core.frame.DataFrame'>\n",
      "RangeIndex: 303 entries, 0 to 302\n",
      "Data columns (total 14 columns):\n",
      " #   Column    Non-Null Count  Dtype  \n",
      "---  ------    --------------  -----  \n",
      " 0   age       303 non-null    int64  \n",
      " 1   sex       303 non-null    int64  \n",
      " 2   cp        303 non-null    int64  \n",
      " 3   trestbps  303 non-null    int64  \n",
      " 4   chol      303 non-null    int64  \n",
      " 5   fbs       303 non-null    int64  \n",
      " 6   restecg   303 non-null    int64  \n",
      " 7   thalach   303 non-null    int64  \n",
      " 8   exang     303 non-null    int64  \n",
      " 9   oldpeak   303 non-null    float64\n",
      " 10  slope     303 non-null    int64  \n",
      " 11  ca        303 non-null    int64  \n",
      " 12  thal      303 non-null    int64  \n",
      " 13  target    303 non-null    int64  \n",
      "dtypes: float64(1), int64(13)\n",
      "memory usage: 33.3 KB\n"
     ]
    }
   ],
   "source": [
    "# Summarize the dataset\n",
    "df.info()"
   ]
  },
  {
   "cell_type": "code",
   "execution_count": 5,
   "id": "3e1c340f",
   "metadata": {},
   "outputs": [
    {
     "data": {
      "text/plain": [
       "(303, 14)"
      ]
     },
     "execution_count": 5,
     "metadata": {},
     "output_type": "execute_result"
    }
   ],
   "source": [
    "# Determine the dimensions of the dataset\n",
    "df.shape"
   ]
  },
  {
   "cell_type": "code",
   "execution_count": 6,
   "id": "91310f29",
   "metadata": {
    "scrolled": true
   },
   "outputs": [
    {
     "data": {
      "text/html": [
       "<div>\n",
       "<style scoped>\n",
       "    .dataframe tbody tr th:only-of-type {\n",
       "        vertical-align: middle;\n",
       "    }\n",
       "\n",
       "    .dataframe tbody tr th {\n",
       "        vertical-align: top;\n",
       "    }\n",
       "\n",
       "    .dataframe thead th {\n",
       "        text-align: right;\n",
       "    }\n",
       "</style>\n",
       "<table border=\"1\" class=\"dataframe\">\n",
       "  <thead>\n",
       "    <tr style=\"text-align: right;\">\n",
       "      <th></th>\n",
       "      <th>age</th>\n",
       "      <th>sex</th>\n",
       "      <th>cp</th>\n",
       "      <th>trestbps</th>\n",
       "      <th>chol</th>\n",
       "      <th>fbs</th>\n",
       "      <th>restecg</th>\n",
       "      <th>thalach</th>\n",
       "      <th>exang</th>\n",
       "      <th>oldpeak</th>\n",
       "      <th>slope</th>\n",
       "      <th>ca</th>\n",
       "      <th>thal</th>\n",
       "      <th>target</th>\n",
       "    </tr>\n",
       "  </thead>\n",
       "  <tbody>\n",
       "    <tr>\n",
       "      <th>count</th>\n",
       "      <td>303.000000</td>\n",
       "      <td>303.000000</td>\n",
       "      <td>303.000000</td>\n",
       "      <td>303.000000</td>\n",
       "      <td>303.000000</td>\n",
       "      <td>303.000000</td>\n",
       "      <td>303.000000</td>\n",
       "      <td>303.000000</td>\n",
       "      <td>303.000000</td>\n",
       "      <td>303.000000</td>\n",
       "      <td>303.000000</td>\n",
       "      <td>303.000000</td>\n",
       "      <td>303.000000</td>\n",
       "      <td>303.000000</td>\n",
       "    </tr>\n",
       "    <tr>\n",
       "      <th>mean</th>\n",
       "      <td>54.366337</td>\n",
       "      <td>0.683168</td>\n",
       "      <td>0.966997</td>\n",
       "      <td>131.623762</td>\n",
       "      <td>246.264026</td>\n",
       "      <td>0.148515</td>\n",
       "      <td>0.528053</td>\n",
       "      <td>149.646865</td>\n",
       "      <td>0.326733</td>\n",
       "      <td>1.039604</td>\n",
       "      <td>1.399340</td>\n",
       "      <td>0.729373</td>\n",
       "      <td>2.313531</td>\n",
       "      <td>0.544554</td>\n",
       "    </tr>\n",
       "    <tr>\n",
       "      <th>std</th>\n",
       "      <td>9.082101</td>\n",
       "      <td>0.466011</td>\n",
       "      <td>1.032052</td>\n",
       "      <td>17.538143</td>\n",
       "      <td>51.830751</td>\n",
       "      <td>0.356198</td>\n",
       "      <td>0.525860</td>\n",
       "      <td>22.905161</td>\n",
       "      <td>0.469794</td>\n",
       "      <td>1.161075</td>\n",
       "      <td>0.616226</td>\n",
       "      <td>1.022606</td>\n",
       "      <td>0.612277</td>\n",
       "      <td>0.498835</td>\n",
       "    </tr>\n",
       "    <tr>\n",
       "      <th>min</th>\n",
       "      <td>29.000000</td>\n",
       "      <td>0.000000</td>\n",
       "      <td>0.000000</td>\n",
       "      <td>94.000000</td>\n",
       "      <td>126.000000</td>\n",
       "      <td>0.000000</td>\n",
       "      <td>0.000000</td>\n",
       "      <td>71.000000</td>\n",
       "      <td>0.000000</td>\n",
       "      <td>0.000000</td>\n",
       "      <td>0.000000</td>\n",
       "      <td>0.000000</td>\n",
       "      <td>0.000000</td>\n",
       "      <td>0.000000</td>\n",
       "    </tr>\n",
       "    <tr>\n",
       "      <th>25%</th>\n",
       "      <td>47.500000</td>\n",
       "      <td>0.000000</td>\n",
       "      <td>0.000000</td>\n",
       "      <td>120.000000</td>\n",
       "      <td>211.000000</td>\n",
       "      <td>0.000000</td>\n",
       "      <td>0.000000</td>\n",
       "      <td>133.500000</td>\n",
       "      <td>0.000000</td>\n",
       "      <td>0.000000</td>\n",
       "      <td>1.000000</td>\n",
       "      <td>0.000000</td>\n",
       "      <td>2.000000</td>\n",
       "      <td>0.000000</td>\n",
       "    </tr>\n",
       "    <tr>\n",
       "      <th>50%</th>\n",
       "      <td>55.000000</td>\n",
       "      <td>1.000000</td>\n",
       "      <td>1.000000</td>\n",
       "      <td>130.000000</td>\n",
       "      <td>240.000000</td>\n",
       "      <td>0.000000</td>\n",
       "      <td>1.000000</td>\n",
       "      <td>153.000000</td>\n",
       "      <td>0.000000</td>\n",
       "      <td>0.800000</td>\n",
       "      <td>1.000000</td>\n",
       "      <td>0.000000</td>\n",
       "      <td>2.000000</td>\n",
       "      <td>1.000000</td>\n",
       "    </tr>\n",
       "    <tr>\n",
       "      <th>75%</th>\n",
       "      <td>61.000000</td>\n",
       "      <td>1.000000</td>\n",
       "      <td>2.000000</td>\n",
       "      <td>140.000000</td>\n",
       "      <td>274.500000</td>\n",
       "      <td>0.000000</td>\n",
       "      <td>1.000000</td>\n",
       "      <td>166.000000</td>\n",
       "      <td>1.000000</td>\n",
       "      <td>1.600000</td>\n",
       "      <td>2.000000</td>\n",
       "      <td>1.000000</td>\n",
       "      <td>3.000000</td>\n",
       "      <td>1.000000</td>\n",
       "    </tr>\n",
       "    <tr>\n",
       "      <th>max</th>\n",
       "      <td>77.000000</td>\n",
       "      <td>1.000000</td>\n",
       "      <td>3.000000</td>\n",
       "      <td>200.000000</td>\n",
       "      <td>564.000000</td>\n",
       "      <td>1.000000</td>\n",
       "      <td>2.000000</td>\n",
       "      <td>202.000000</td>\n",
       "      <td>1.000000</td>\n",
       "      <td>6.200000</td>\n",
       "      <td>2.000000</td>\n",
       "      <td>4.000000</td>\n",
       "      <td>3.000000</td>\n",
       "      <td>1.000000</td>\n",
       "    </tr>\n",
       "  </tbody>\n",
       "</table>\n",
       "</div>"
      ],
      "text/plain": [
       "              age         sex          cp    trestbps        chol         fbs  \\\n",
       "count  303.000000  303.000000  303.000000  303.000000  303.000000  303.000000   \n",
       "mean    54.366337    0.683168    0.966997  131.623762  246.264026    0.148515   \n",
       "std      9.082101    0.466011    1.032052   17.538143   51.830751    0.356198   \n",
       "min     29.000000    0.000000    0.000000   94.000000  126.000000    0.000000   \n",
       "25%     47.500000    0.000000    0.000000  120.000000  211.000000    0.000000   \n",
       "50%     55.000000    1.000000    1.000000  130.000000  240.000000    0.000000   \n",
       "75%     61.000000    1.000000    2.000000  140.000000  274.500000    0.000000   \n",
       "max     77.000000    1.000000    3.000000  200.000000  564.000000    1.000000   \n",
       "\n",
       "          restecg     thalach       exang     oldpeak       slope          ca  \\\n",
       "count  303.000000  303.000000  303.000000  303.000000  303.000000  303.000000   \n",
       "mean     0.528053  149.646865    0.326733    1.039604    1.399340    0.729373   \n",
       "std      0.525860   22.905161    0.469794    1.161075    0.616226    1.022606   \n",
       "min      0.000000   71.000000    0.000000    0.000000    0.000000    0.000000   \n",
       "25%      0.000000  133.500000    0.000000    0.000000    1.000000    0.000000   \n",
       "50%      1.000000  153.000000    0.000000    0.800000    1.000000    0.000000   \n",
       "75%      1.000000  166.000000    1.000000    1.600000    2.000000    1.000000   \n",
       "max      2.000000  202.000000    1.000000    6.200000    2.000000    4.000000   \n",
       "\n",
       "             thal      target  \n",
       "count  303.000000  303.000000  \n",
       "mean     2.313531    0.544554  \n",
       "std      0.612277    0.498835  \n",
       "min      0.000000    0.000000  \n",
       "25%      2.000000    0.000000  \n",
       "50%      2.000000    1.000000  \n",
       "75%      3.000000    1.000000  \n",
       "max      3.000000    1.000000  "
      ]
     },
     "execution_count": 6,
     "metadata": {},
     "output_type": "execute_result"
    }
   ],
   "source": [
    "# Generate descriptive statistics\n",
    "df.describe()"
   ]
  },
  {
   "cell_type": "markdown",
   "id": "a074aa2a",
   "metadata": {},
   "source": [
    "#### Identify missing values"
   ]
  },
  {
   "cell_type": "code",
   "execution_count": 7,
   "id": "e68f124d",
   "metadata": {
    "scrolled": true
   },
   "outputs": [
    {
     "data": {
      "text/plain": [
       "age         0\n",
       "sex         0\n",
       "cp          0\n",
       "trestbps    0\n",
       "chol        0\n",
       "fbs         0\n",
       "restecg     0\n",
       "thalach     0\n",
       "exang       0\n",
       "oldpeak     0\n",
       "slope       0\n",
       "ca          0\n",
       "thal        0\n",
       "target      0\n",
       "dtype: int64"
      ]
     },
     "execution_count": 7,
     "metadata": {},
     "output_type": "execute_result"
    }
   ],
   "source": [
    "df.isnull().sum()"
   ]
  },
  {
   "cell_type": "markdown",
   "id": "ee9eab1c",
   "metadata": {},
   "source": [
    "#### Understanding the distrubution of the target variable"
   ]
  },
  {
   "cell_type": "code",
   "execution_count": 8,
   "id": "8858ceb4",
   "metadata": {
    "scrolled": true
   },
   "outputs": [
    {
     "name": "stdout",
     "output_type": "stream",
     "text": [
      "Label counts:\n"
     ]
    },
    {
     "data": {
      "text/plain": [
       "1    165\n",
       "0    138\n",
       "Name: target, dtype: int64"
      ]
     },
     "execution_count": 8,
     "metadata": {},
     "output_type": "execute_result"
    }
   ],
   "source": [
    "# Count the occurrences of each unique value in the 'target' column\n",
    "target_counts = df['target'].value_counts()\n",
    "\n",
    "print(\"Label counts:\")\n",
    "target_counts"
   ]
  },
  {
   "cell_type": "code",
   "execution_count": 9,
   "id": "c25de2ae",
   "metadata": {},
   "outputs": [
    {
     "data": {
      "image/png": "[encoded data removed]",
      "text/plain": [
       "<Figure size 1000x800 with 1 Axes>"
      ]
     },
     "metadata": {},
     "output_type": "display_data"
    }
   ],
   "source": [
    "# Count the occurrences of each target value\n",
    "target_counts = df['target'].value_counts()\n",
    "\n",
    "# Plotting the distribution\n",
    "plt.bar(target_counts.index, target_counts.values)\n",
    "plt.ylabel('Count')\n",
    "plt.title('Distribution of Target')\n",
    "\n",
    "# Customize the x-axis tick labels\n",
    "plt.xticks(target_counts.index, ['Heart disease', 'No Heart disease'])\n",
    "\n",
    "# Remove the tick marks on the y-axis\n",
    "plt.tick_params(axis='y', which='both', left=False, right=False)\n",
    "\n",
    "plt.show()"
   ]
  },
  {
   "cell_type": "markdown",
   "id": "5da55b35",
   "metadata": {},
   "source": [
    "- Bootstrapping may be neccesary"
   ]
  },
  {
   "cell_type": "markdown",
   "id": "602705f3",
   "metadata": {},
   "source": [
    "#### Numerical features"
   ]
  },
  {
   "cell_type": "code",
   "execution_count": 10,
   "id": "eca86dac",
   "metadata": {
    "scrolled": true
   },
   "outputs": [
    {
     "data": {
      "image/png": "[encoded data removed]",
      "text/plain": [
       "<Figure size 1600x400 with 5 Axes>"
      ]
     },
     "metadata": {},
     "output_type": "display_data"
    }
   ],
   "source": [
    "numerical_features = ['age', 'trestbps', 'chol', 'thalach', 'oldpeak']\n",
    "\n",
    "fig, axes = plt.subplots(nrows=1, ncols=len(numerical_features), figsize=(16, 4))\n",
    "\n",
    "for i, feature in enumerate(numerical_features):\n",
    "    ax = axes[i]\n",
    "    ax.hist(df[feature], bins=10)\n",
    "    ax.set_xlabel(feature)\n",
    "    ax.set_ylabel('Frequency')\n",
    "\n",
    "plt.tight_layout()\n",
    "plt.show()"
   ]
  },
  {
   "cell_type": "markdown",
   "id": "327eac9c",
   "metadata": {},
   "source": [
    "Outliers are observed in chol and oldpeak"
   ]
  },
  {
   "cell_type": "markdown",
   "id": "f95a5322",
   "metadata": {},
   "source": [
    "### Outlier Handling"
   ]
  },
  {
   "cell_type": "markdown",
   "id": "f0d266bf",
   "metadata": {},
   "source": [
    "#### chol"
   ]
  },
  {
   "cell_type": "code",
   "execution_count": 11,
   "id": "621ac1c1",
   "metadata": {},
   "outputs": [
    {
     "data": {
      "image/png": "[encoded data removed]",
      "text/plain": [
       "<Figure size 1200x600 with 2 Axes>"
      ]
     },
     "metadata": {},
     "output_type": "display_data"
    }
   ],
   "source": [
    "# Create subplots with 1 row and 2 columns\n",
    "fig, axes = plt.subplots(1, 2, figsize=(12, 6))\n",
    "\n",
    "# Boxplot of 'chol'\n",
    "axes[0].boxplot(df['chol'])\n",
    "axes[0].set_xlabel('Cholesterol')\n",
    "axes[0].set_title('Distribution of Cholesterol')\n",
    "\n",
    "# Create separate data subsets for instances labeled as 0 and 1\n",
    "df_label_0 = df[df['target'] == 0]\n",
    "df_label_1 = df[df['target'] == 1]\n",
    "\n",
    "# Histograms of 'chol' by label\n",
    "sns.histplot(df_label_0['chol'], color='blue', label='Label 0', kde=True, ax=axes[1])\n",
    "sns.histplot(df_label_1['chol'], color='orange', label='Label 1', kde=True, ax=axes[1])\n",
    "axes[1].set_xlabel('Cholesterol')\n",
    "axes[1].set_ylabel('Count')\n",
    "axes[1].set_title('Distribution of Cholesterol by Label')\n",
    "axes[1].legend()\n",
    "\n",
    "# Adjust the spacing between subplots\n",
    "plt.tight_layout()\n",
    "\n",
    "# Display the plot\n",
    "plt.show()\n",
    "\n"
   ]
  },
  {
   "cell_type": "markdown",
   "id": "63aac601",
   "metadata": {},
   "source": [
    "Replace values that lay beyond the 99th percentile"
   ]
  },
  {
   "cell_type": "code",
   "execution_count": 12,
   "id": "b599ea9a",
   "metadata": {},
   "outputs": [
    {
     "data": {
      "image/png": "[encoded data removed]",
      "text/plain": [
       "<Figure size 1200x600 with 2 Axes>"
      ]
     },
     "metadata": {},
     "output_type": "display_data"
    }
   ],
   "source": [
    "# Winsorize the 'chol' variable\n",
    "df['chol_winsorized'] = mstats.winsorize(df['chol'], limits=[0.01, 0.01])\n",
    "\n",
    "\n",
    "# Create subplots with 1 row and 2 columns\n",
    "fig, axes = plt.subplots(1, 2, figsize=(12, 6))\n",
    "\n",
    "# Boxplot of winsorized 'chol'\n",
    "axes[0].boxplot(df['chol_winsorized'])\n",
    "axes[0].set_xlabel('Cholesterol')\n",
    "axes[0].set_title('Distribution of Cholesterol (Winsorized)')\n",
    "\n",
    "# Create separate data subsets for instances labeled as 0 and 1\n",
    "df_label_0 = df[df['target'] == 0]\n",
    "df_label_1 = df[df['target'] == 1]\n",
    "\n",
    "# Histograms of winsorized 'chol' by label\n",
    "sns.histplot(df_label_0['chol_winsorized'], color='blue', label='Label 0', kde=True, ax=axes[1])\n",
    "sns.histplot(df_label_1['chol_winsorized'], color='orange', label='Label 1', kde=True, ax=axes[1])\n",
    "axes[1].set_xlabel('Cholesterol')\n",
    "axes[1].set_ylabel('Count')\n",
    "axes[1].set_title('Distribution of Cholesterol (Winsorized) by Label')\n",
    "axes[1].legend()\n",
    "\n",
    "# Adjust the spacing between subplots\n",
    "plt.tight_layout()\n",
    "\n",
    "# Display the plot\n",
    "plt.show()"
   ]
  },
  {
   "cell_type": "markdown",
   "id": "400eff60",
   "metadata": {},
   "source": [
    "#### oldpeak"
   ]
  },
  {
   "cell_type": "code",
   "execution_count": 13,
   "id": "6efdfa51",
   "metadata": {},
   "outputs": [
    {
     "data": {
      "image/png": "[encoded data removed]",
      "text/plain": [
       "<Figure size 600x400 with 1 Axes>"
      ]
     },
     "metadata": {},
     "output_type": "display_data"
    },
    {
     "data": {
      "image/png": "[encoded data removed]",
      "text/plain": [
       "<Figure size 1200x400 with 2 Axes>"
      ]
     },
     "metadata": {},
     "output_type": "display_data"
    }
   ],
   "source": [
    "plt.figure(figsize=(6, 4))\n",
    "\n",
    "\n",
    "plt.boxplot(df['oldpeak'])\n",
    "plt.xlabel('oldpeak')\n",
    "plt.title('Boxplot of oldpeak')\n",
    "plt.show()\n",
    "\n",
    "# Create subplots with 1 row and 2 columns\n",
    "fig, axes = plt.subplots(1, 2, figsize=(12, 4))\n",
    "\n",
    "# Scatter plot: oldpeak vs. target\n",
    "axes[0].scatter(df['oldpeak'], df['target'], color='steelblue', alpha=0.5)\n",
    "axes[0].set_xlabel('oldpeak')\n",
    "axes[0].set_ylabel('target')\n",
    "axes[0].set_title('Scatter Plot: oldpeak vs. target')\n",
    "\n",
    "# Create separate data subsets for instances labeled as 0 and 1\n",
    "df_label_0 = df[df['target'] == 0]\n",
    "df_label_1 = df[df['target'] == 1]\n",
    "\n",
    "# Histograms of oldpeak by label\n",
    "sns.histplot(df_label_0['oldpeak'], color='blue', label='Label 0', kde=True, ax=axes[1])\n",
    "sns.histplot(df_label_1['oldpeak'], color='orange', label='Label 1', kde=True, ax=axes[1])\n",
    "axes[1].set_xlabel('oldpeak')\n",
    "axes[1].set_ylabel('Count')\n",
    "axes[1].set_title('Distribution of oldpeak by Label')\n",
    "axes[1].legend()\n",
    "\n",
    "# Adjust the spacing between subplots\n",
    "plt.tight_layout()\n",
    "\n",
    "# Display the plot\n",
    "plt.show()\n"
   ]
  },
  {
   "cell_type": "markdown",
   "id": "d0d8cb1b",
   "metadata": {},
   "source": [
    "Outliers were not replaced here. Because of the small amount of data, I decided to take a cautious approach to dealing with outliers. "
   ]
  },
  {
   "cell_type": "markdown",
   "id": "d3b68ba3",
   "metadata": {},
   "source": [
    "#### Numerical features' pearson correlation to the target variable"
   ]
  },
  {
   "cell_type": "code",
   "execution_count": 14,
   "id": "72234796",
   "metadata": {},
   "outputs": [
    {
     "data": {
      "text/plain": [
       "<AxesSubplot:>"
      ]
     },
     "execution_count": 14,
     "metadata": {},
     "output_type": "execute_result"
    },
    {
     "data": {
      "image/png": "[encoded data removed]",
      "text/plain": [
       "<Figure size 1000x800 with 1 Axes>"
      ]
     },
     "metadata": {},
     "output_type": "display_data"
    }
   ],
   "source": [
    "df.corr()['target'].sort_values().plot.bar()"
   ]
  },
  {
   "cell_type": "markdown",
   "id": "d4145a19",
   "metadata": {},
   "source": [
    "Data shows linear relationship to the target variable. LR and SVM might be a good choice."
   ]
  },
  {
   "cell_type": "markdown",
   "id": "8f27a5d3",
   "metadata": {},
   "source": [
    "#### Checking for feature redundancy"
   ]
  },
  {
   "cell_type": "code",
   "execution_count": 15,
   "id": "87151fbe",
   "metadata": {
    "scrolled": false
   },
   "outputs": [
    {
     "data": {
      "image/png": "[encoded data removed]",
      "text/plain": [
       "<Figure size 1000x800 with 2 Axes>"
      ]
     },
     "metadata": {},
     "output_type": "display_data"
    }
   ],
   "source": [
    "correlation_matrix = df[['age', 'trestbps', 'chol', 'thalach', 'oldpeak']].corr()\n",
    "sns.heatmap(correlation_matrix, annot=True)\n",
    "plt.title('Correlation Heatmap')\n",
    "plt.show()"
   ]
  },
  {
   "cell_type": "markdown",
   "id": "95930fb3",
   "metadata": {},
   "source": [
    "No redundancy between features"
   ]
  },
  {
   "cell_type": "markdown",
   "id": "f086be2d",
   "metadata": {},
   "source": [
    "### Understanding categorical features"
   ]
  },
  {
   "cell_type": "markdown",
   "id": "ec6aaffd",
   "metadata": {},
   "source": [
    "#### 'sex', 'cp', 'fbs', 'restecg', 'exang', 'slope', 'ca', 'thal'"
   ]
  },
  {
   "cell_type": "code",
   "execution_count": 16,
   "id": "d4fa0faa",
   "metadata": {},
   "outputs": [
    {
     "data": {
      "image/png": "[encoded data removed]",
      "text/plain": [
       "<Figure size 1600x800 with 8 Axes>"
      ]
     },
     "metadata": {},
     "output_type": "display_data"
    }
   ],
   "source": [
    "categorical_features = ['sex', 'cp', 'fbs', 'restecg', 'exang', 'slope', 'ca', 'thal']\n",
    "\n",
    "fig, axes = plt.subplots(nrows=2, ncols=4, figsize=(16, 8))\n",
    "axes = axes.flatten()\n",
    "\n",
    "for i, feature in enumerate(categorical_features):\n",
    "    ax = axes[i]\n",
    "    feature_counts = df[feature].value_counts()\n",
    "    ax.bar(feature_counts.index, feature_counts.values)\n",
    "    ax.set_xlabel(feature)\n",
    "    ax.set_ylabel('Count')\n",
    "\n",
    "plt.tight_layout()\n",
    "plt.show()"
   ]
  },
  {
   "cell_type": "markdown",
   "id": "bc3ec637",
   "metadata": {},
   "source": [
    "#### cp"
   ]
  },
  {
   "cell_type": "code",
   "execution_count": 17,
   "id": "140a3d23",
   "metadata": {},
   "outputs": [
    {
     "data": {
      "text/plain": [
       "0    143\n",
       "2     87\n",
       "1     50\n",
       "3     23\n",
       "Name: cp, dtype: int64"
      ]
     },
     "execution_count": 17,
     "metadata": {},
     "output_type": "execute_result"
    }
   ],
   "source": [
    "# counts\n",
    "df['cp'].value_counts()"
   ]
  },
  {
   "cell_type": "markdown",
   "id": "6c28b575",
   "metadata": {},
   "source": [
    "#### restecg"
   ]
  },
  {
   "cell_type": "code",
   "execution_count": 18,
   "id": "937f5297",
   "metadata": {
    "scrolled": true
   },
   "outputs": [
    {
     "data": {
      "text/plain": [
       "1    152\n",
       "0    147\n",
       "2      4\n",
       "Name: restecg, dtype: int64"
      ]
     },
     "execution_count": 18,
     "metadata": {},
     "output_type": "execute_result"
    }
   ],
   "source": [
    "# counts\n",
    "df['restecg'].value_counts()"
   ]
  },
  {
   "cell_type": "markdown",
   "id": "d9fd5c53",
   "metadata": {},
   "source": [
    "Only four instances with the value \"2\". "
   ]
  },
  {
   "cell_type": "code",
   "execution_count": 19,
   "id": "db6e3845",
   "metadata": {},
   "outputs": [
    {
     "data": {
      "text/plain": [
       "restecg\n",
       "0    0.462585\n",
       "1    0.631579\n",
       "2    0.250000\n",
       "Name: target, dtype: float64"
      ]
     },
     "execution_count": 19,
     "metadata": {},
     "output_type": "execute_result"
    }
   ],
   "source": [
    "# Distribution of target variable\n",
    "df.groupby('restecg').mean()['target']"
   ]
  },
  {
   "cell_type": "markdown",
   "id": "5484bd07",
   "metadata": {},
   "source": [
    "Even though values 0 and 2 have more similar labels, I decided to bin 1 and 2 because they are more similar in meaning.\n",
    "The new binary feature indicates whether ECG is normal."
   ]
  },
  {
   "cell_type": "markdown",
   "id": "1cb25303",
   "metadata": {},
   "source": [
    "#### Binning restecg"
   ]
  },
  {
   "cell_type": "code",
   "execution_count": 20,
   "id": "4963418c",
   "metadata": {},
   "outputs": [
    {
     "data": {
      "text/plain": [
       "1    156\n",
       "0    147\n",
       "Name: abnormal_restecg, dtype: int64"
      ]
     },
     "execution_count": 20,
     "metadata": {},
     "output_type": "execute_result"
    }
   ],
   "source": [
    "# Change all 2s to 1s in the 'restecg' column\n",
    "df['restecg'] = df['restecg'].replace(2, 1)\n",
    "\n",
    "# Rename the column to 'normal_ecg'\n",
    "df.rename(columns={'restecg': 'abnormal_restecg'}, inplace=True)\n",
    "\n",
    "df['abnormal_restecg'].value_counts()"
   ]
  },
  {
   "cell_type": "markdown",
   "id": "d78893be",
   "metadata": {},
   "source": [
    "#### thal"
   ]
  },
  {
   "cell_type": "code",
   "execution_count": 21,
   "id": "5cdcddfa",
   "metadata": {
    "scrolled": false
   },
   "outputs": [
    {
     "data": {
      "text/plain": [
       "2    166\n",
       "3    117\n",
       "1     18\n",
       "0      2\n",
       "Name: thal, dtype: int64"
      ]
     },
     "execution_count": 21,
     "metadata": {},
     "output_type": "execute_result"
    }
   ],
   "source": [
    "df['thal'].value_counts()"
   ]
  },
  {
   "cell_type": "markdown",
   "id": "03337de4",
   "metadata": {},
   "source": [
    "Only 2 instances with value \"0\"."
   ]
  },
  {
   "cell_type": "code",
   "execution_count": 22,
   "id": "89cad4bb",
   "metadata": {
    "scrolled": false
   },
   "outputs": [
    {
     "data": {
      "image/png": "[encoded data removed]",
      "text/plain": [
       "<Figure size 600x400 with 1 Axes>"
      ]
     },
     "metadata": {},
     "output_type": "display_data"
    }
   ],
   "source": [
    "# Display the distribution of target variable\n",
    "plt.figure(figsize=(6, 4))\n",
    "\n",
    "\n",
    "thal_mean = df.groupby('thal').mean()['target']\n",
    "plt.bar(thal_mean.index, thal_mean.values)\n",
    "plt.title('Mean Target Values by Thal')\n",
    "plt.xlabel('Thal')\n",
    "plt.ylabel('Mean Target')\n",
    "plt.show()\n"
   ]
  },
  {
   "cell_type": "markdown",
   "id": "5a715063",
   "metadata": {},
   "source": [
    "Binned 0 with 2. It was discoved that 0 was was NULL, so there was no context for binning. I decided to bin it with 1 because it had the most similar distribution of the target variable."
   ]
  },
  {
   "cell_type": "markdown",
   "id": "ea09146c",
   "metadata": {},
   "source": [
    "#### Binning thal"
   ]
  },
  {
   "cell_type": "code",
   "execution_count": 23,
   "id": "4214dd94",
   "metadata": {
    "scrolled": false
   },
   "outputs": [
    {
     "data": {
      "text/plain": [
       "2    166\n",
       "3    117\n",
       "1     20\n",
       "Name: thal, dtype: int64"
      ]
     },
     "execution_count": 23,
     "metadata": {},
     "output_type": "execute_result"
    }
   ],
   "source": [
    "# Change all 0s to 1s in the 'thal' column\n",
    "df['thal'] = df['thal'].replace(0, 1)\n",
    "df['thal'].value_counts()"
   ]
  },
  {
   "cell_type": "markdown",
   "id": "13ca7816",
   "metadata": {},
   "source": [
    "#### ca"
   ]
  },
  {
   "cell_type": "code",
   "execution_count": 24,
   "id": "d0dd4886",
   "metadata": {},
   "outputs": [
    {
     "data": {
      "text/plain": [
       "0    175\n",
       "1     65\n",
       "2     38\n",
       "3     20\n",
       "4      5\n",
       "Name: ca, dtype: int64"
      ]
     },
     "execution_count": 24,
     "metadata": {},
     "output_type": "execute_result"
    }
   ],
   "source": [
    "df['ca'].value_counts()"
   ]
  },
  {
   "cell_type": "code",
   "execution_count": 25,
   "id": "600dc2c5",
   "metadata": {},
   "outputs": [
    {
     "data": {
      "image/png": "[encoded data removed]",
      "text/plain": [
       "<Figure size 600x400 with 1 Axes>"
      ]
     },
     "metadata": {},
     "output_type": "display_data"
    }
   ],
   "source": [
    "# Display the distribution of target variable\n",
    "plt.figure(figsize=(6, 4))\n",
    "\n",
    "\n",
    "thal_mean = df.groupby('ca').mean()['target']\n",
    "plt.bar(thal_mean.index, thal_mean.values)\n",
    "plt.title('Mean Target Values by ca')\n",
    "plt.xlabel('ca')\n",
    "plt.ylabel('Mean Target')\n",
    "plt.show()\n"
   ]
  },
  {
   "cell_type": "markdown",
   "id": "cc17af56",
   "metadata": {},
   "source": [
    "#### slope"
   ]
  },
  {
   "cell_type": "code",
   "execution_count": 26,
   "id": "b65dfc55",
   "metadata": {},
   "outputs": [
    {
     "data": {
      "text/plain": [
       "2    142\n",
       "1    140\n",
       "0     21\n",
       "Name: slope, dtype: int64"
      ]
     },
     "execution_count": 26,
     "metadata": {},
     "output_type": "execute_result"
    }
   ],
   "source": [
    "df['slope'].value_counts()"
   ]
  },
  {
   "cell_type": "code",
   "execution_count": 27,
   "id": "986cdec1",
   "metadata": {
    "scrolled": false
   },
   "outputs": [
    {
     "data": {
      "image/png": "[encoded data removed]",
      "text/plain": [
       "<Figure size 600x400 with 1 Axes>"
      ]
     },
     "metadata": {},
     "output_type": "display_data"
    }
   ],
   "source": [
    "# Display the distribution of target variable\n",
    "plt.figure(figsize=(6, 4))\n",
    "\n",
    "\n",
    "thal_mean = df.groupby('slope').mean()['target']\n",
    "plt.bar(thal_mean.index, thal_mean.values)\n",
    "plt.title('Mean Target Values by slope')\n",
    "plt.xlabel('slope')\n",
    "plt.ylabel('Mean Target')\n",
    "plt.show()\n"
   ]
  },
  {
   "cell_type": "markdown",
   "id": "003c6b04",
   "metadata": {},
   "source": [
    "No changes were made to \"ca\" or \"slope\""
   ]
  },
  {
   "cell_type": "markdown",
   "id": "0c6eb474",
   "metadata": {},
   "source": [
    "#### Create a separate df with dummy variables (for Logistic Regression / SVM)"
   ]
  },
  {
   "cell_type": "code",
   "execution_count": 28,
   "id": "7ed2f076",
   "metadata": {
    "scrolled": true
   },
   "outputs": [
    {
     "data": {
      "text/html": [
       "<div>\n",
       "<style scoped>\n",
       "    .dataframe tbody tr th:only-of-type {\n",
       "        vertical-align: middle;\n",
       "    }\n",
       "\n",
       "    .dataframe tbody tr th {\n",
       "        vertical-align: top;\n",
       "    }\n",
       "\n",
       "    .dataframe thead th {\n",
       "        text-align: right;\n",
       "    }\n",
       "</style>\n",
       "<table border=\"1\" class=\"dataframe\">\n",
       "  <thead>\n",
       "    <tr style=\"text-align: right;\">\n",
       "      <th></th>\n",
       "      <th>age</th>\n",
       "      <th>sex</th>\n",
       "      <th>trestbps</th>\n",
       "      <th>chol</th>\n",
       "      <th>fbs</th>\n",
       "      <th>abnormal_restecg</th>\n",
       "      <th>thalach</th>\n",
       "      <th>exang</th>\n",
       "      <th>oldpeak</th>\n",
       "      <th>slope</th>\n",
       "      <th>ca</th>\n",
       "      <th>target</th>\n",
       "      <th>chol_winsorized</th>\n",
       "      <th>cp_1</th>\n",
       "      <th>cp_2</th>\n",
       "      <th>cp_3</th>\n",
       "      <th>thal_2</th>\n",
       "      <th>thal_3</th>\n",
       "    </tr>\n",
       "  </thead>\n",
       "  <tbody>\n",
       "    <tr>\n",
       "      <th>0</th>\n",
       "      <td>63</td>\n",
       "      <td>1</td>\n",
       "      <td>145</td>\n",
       "      <td>233</td>\n",
       "      <td>1</td>\n",
       "      <td>0</td>\n",
       "      <td>150</td>\n",
       "      <td>0</td>\n",
       "      <td>2.3</td>\n",
       "      <td>0</td>\n",
       "      <td>0</td>\n",
       "      <td>1</td>\n",
       "      <td>233</td>\n",
       "      <td>0</td>\n",
       "      <td>0</td>\n",
       "      <td>1</td>\n",
       "      <td>0</td>\n",
       "      <td>0</td>\n",
       "    </tr>\n",
       "    <tr>\n",
       "      <th>1</th>\n",
       "      <td>37</td>\n",
       "      <td>1</td>\n",
       "      <td>130</td>\n",
       "      <td>250</td>\n",
       "      <td>0</td>\n",
       "      <td>1</td>\n",
       "      <td>187</td>\n",
       "      <td>0</td>\n",
       "      <td>3.5</td>\n",
       "      <td>0</td>\n",
       "      <td>0</td>\n",
       "      <td>1</td>\n",
       "      <td>250</td>\n",
       "      <td>0</td>\n",
       "      <td>1</td>\n",
       "      <td>0</td>\n",
       "      <td>1</td>\n",
       "      <td>0</td>\n",
       "    </tr>\n",
       "    <tr>\n",
       "      <th>2</th>\n",
       "      <td>41</td>\n",
       "      <td>0</td>\n",
       "      <td>130</td>\n",
       "      <td>204</td>\n",
       "      <td>0</td>\n",
       "      <td>0</td>\n",
       "      <td>172</td>\n",
       "      <td>0</td>\n",
       "      <td>1.4</td>\n",
       "      <td>2</td>\n",
       "      <td>0</td>\n",
       "      <td>1</td>\n",
       "      <td>204</td>\n",
       "      <td>1</td>\n",
       "      <td>0</td>\n",
       "      <td>0</td>\n",
       "      <td>1</td>\n",
       "      <td>0</td>\n",
       "    </tr>\n",
       "    <tr>\n",
       "      <th>3</th>\n",
       "      <td>56</td>\n",
       "      <td>1</td>\n",
       "      <td>120</td>\n",
       "      <td>236</td>\n",
       "      <td>0</td>\n",
       "      <td>1</td>\n",
       "      <td>178</td>\n",
       "      <td>0</td>\n",
       "      <td>0.8</td>\n",
       "      <td>2</td>\n",
       "      <td>0</td>\n",
       "      <td>1</td>\n",
       "      <td>236</td>\n",
       "      <td>1</td>\n",
       "      <td>0</td>\n",
       "      <td>0</td>\n",
       "      <td>1</td>\n",
       "      <td>0</td>\n",
       "    </tr>\n",
       "    <tr>\n",
       "      <th>4</th>\n",
       "      <td>57</td>\n",
       "      <td>0</td>\n",
       "      <td>120</td>\n",
       "      <td>354</td>\n",
       "      <td>0</td>\n",
       "      <td>1</td>\n",
       "      <td>163</td>\n",
       "      <td>1</td>\n",
       "      <td>0.6</td>\n",
       "      <td>2</td>\n",
       "      <td>0</td>\n",
       "      <td>1</td>\n",
       "      <td>354</td>\n",
       "      <td>0</td>\n",
       "      <td>0</td>\n",
       "      <td>0</td>\n",
       "      <td>1</td>\n",
       "      <td>0</td>\n",
       "    </tr>\n",
       "  </tbody>\n",
       "</table>\n",
       "</div>"
      ],
      "text/plain": [
       "   age  sex  trestbps  chol  fbs  abnormal_restecg  thalach  exang  oldpeak  \\\n",
       "0   63    1       145   233    1                 0      150      0      2.3   \n",
       "1   37    1       130   250    0                 1      187      0      3.5   \n",
       "2   41    0       130   204    0                 0      172      0      1.4   \n",
       "3   56    1       120   236    0                 1      178      0      0.8   \n",
       "4   57    0       120   354    0                 1      163      1      0.6   \n",
       "\n",
       "   slope  ca  target  chol_winsorized  cp_1  cp_2  cp_3  thal_2  thal_3  \n",
       "0      0   0       1              233     0     0     1       0       0  \n",
       "1      0   0       1              250     0     1     0       1       0  \n",
       "2      2   0       1              204     1     0     0       1       0  \n",
       "3      2   0       1              236     1     0     0       1       0  \n",
       "4      2   0       1              354     0     0     0       1       0  "
      ]
     },
     "execution_count": 28,
     "metadata": {},
     "output_type": "execute_result"
    }
   ],
   "source": [
    "# Create dummy variables for the specified columns\n",
    "dummy_cols = ['cp', 'thal']\n",
    "dummy_df = pd.get_dummies(df, columns=dummy_cols, drop_first=True)\n",
    "\n",
    "# Print the new dataset with dummy variables\n",
    "dummy_df.head()"
   ]
  },
  {
   "cell_type": "markdown",
   "id": "2f96dc7d",
   "metadata": {},
   "source": [
    "Explainability: if all cps are false, then cp is type 0. If all thals are false, then thal is 1."
   ]
  },
  {
   "cell_type": "markdown",
   "id": "42553025",
   "metadata": {},
   "source": [
    "#### Pearson correlations of features to target (with dummies)"
   ]
  },
  {
   "cell_type": "code",
   "execution_count": 29,
   "id": "8e41d16c",
   "metadata": {},
   "outputs": [
    {
     "data": {
      "text/plain": [
       "<AxesSubplot:>"
      ]
     },
     "execution_count": 29,
     "metadata": {},
     "output_type": "execute_result"
    },
    {
     "data": {
      "image/png": "[encoded data removed]",
      "text/plain": [
       "<Figure size 1000x800 with 1 Axes>"
      ]
     },
     "metadata": {},
     "output_type": "display_data"
    }
   ],
   "source": [
    "dummy_df.corr()['target'].sort_values().plot.bar()"
   ]
  },
  {
   "cell_type": "markdown",
   "id": "2a45f2e1",
   "metadata": {},
   "source": [
    "# Train-Test Split"
   ]
  },
  {
   "cell_type": "markdown",
   "id": "b4e96d43",
   "metadata": {},
   "source": [
    "Both the regular dataset and dataset with dummies are shuffled and split in the same way. This is done in order to compare results and ensemble different models later on."
   ]
  },
  {
   "cell_type": "markdown",
   "id": "123bf1aa",
   "metadata": {},
   "source": [
    "Split df into 80% train, 20% test"
   ]
  },
  {
   "cell_type": "code",
   "execution_count": 30,
   "id": "8930c3e7",
   "metadata": {},
   "outputs": [
    {
     "name": "stdout",
     "output_type": "stream",
     "text": [
      "X_train shape: (242, 14)\n",
      "X_test shape: (61, 14)\n",
      "y_train shape: (242,)\n",
      "y_test shape: (61,)\n"
     ]
    }
   ],
   "source": [
    "# Split the shuffled data into features (X) and target (y)\n",
    "X = df.drop('target', axis=1)  # Features\n",
    "y = df['target']  # Target\n",
    "\n",
    "# Split the data into train and test sets\n",
    "X_train, X_test, y_train, y_test = train_test_split(X, y, test_size=0.2, random_state=42,shuffle=True)\n",
    "\n",
    "# Verify the shapes of the resulting sets\n",
    "print(\"X_train shape:\", X_train.shape)\n",
    "print(\"X_test shape:\", X_test.shape)\n",
    "print(\"y_train shape:\", y_train.shape)\n",
    "print(\"y_test shape:\", y_test.shape)"
   ]
  },
  {
   "cell_type": "markdown",
   "id": "d23f36de",
   "metadata": {},
   "source": [
    "Split dummy_df into 80% train, 20% test"
   ]
  },
  {
   "cell_type": "code",
   "execution_count": 31,
   "id": "643c123c",
   "metadata": {},
   "outputs": [
    {
     "name": "stdout",
     "output_type": "stream",
     "text": [
      "X_train shape: (242, 17)\n",
      "X_test shape: (61, 17)\n",
      "y_train shape: (242,)\n",
      "y_test shape: (61,)\n"
     ]
    }
   ],
   "source": [
    "# Split the shuffled data into features (X) and target (y)\n",
    "X_d = dummy_df.drop('target', axis=1)  # Features\n",
    "y_d = dummy_df['target']  # Target\n",
    "\n",
    "# Split the data into train and test sets\n",
    "X_train_d, X_test_d, y_train_d, y_test_d = train_test_split(X_d, y_d, test_size=0.2, random_state=42,shuffle=True)\n",
    "\n",
    "# Verify the shapes of the resulting sets\n",
    "print(\"X_train shape:\", X_train_d.shape)\n",
    "print(\"X_test shape:\", X_test_d.shape)\n",
    "print(\"y_train shape:\", y_train_d.shape)\n",
    "print(\"y_test shape:\", y_test_d.shape)"
   ]
  },
  {
   "cell_type": "markdown",
   "id": "397c96a0",
   "metadata": {},
   "source": [
    "Make sure both sets are shuffled the same way"
   ]
  },
  {
   "cell_type": "code",
   "execution_count": 32,
   "id": "4a0ca5ee",
   "metadata": {
    "scrolled": true
   },
   "outputs": [
    {
     "name": "stdout",
     "output_type": "stream",
     "text": [
      "True\n",
      "True\n",
      "True\n",
      "True\n"
     ]
    }
   ],
   "source": [
    "print(X_train.index.equals(X_train_d.index))\n",
    "print(X_test.index.equals(X_test_d.index))\n",
    "print(y_train.index.equals(y_train_d.index))\n",
    "print(y_test.index.equals(y_test_d.index))\n"
   ]
  },
  {
   "cell_type": "markdown",
   "id": "34dc24f9",
   "metadata": {},
   "source": [
    "#### Checking the distrubution of the target variable is similar in both the train and testing sets"
   ]
  },
  {
   "cell_type": "code",
   "execution_count": 33,
   "id": "b8a0b8b3",
   "metadata": {},
   "outputs": [
    {
     "data": {
      "image/png": "[encoded data removed]",
      "text/plain": [
       "<Figure size 1000x400 with 2 Axes>"
      ]
     },
     "metadata": {},
     "output_type": "display_data"
    }
   ],
   "source": [
    "# Get the value counts of the target variable in the training set\n",
    "train_value_counts = y_train.value_counts()\n",
    "\n",
    "# Get the value counts of the target variable in the testing set\n",
    "test_value_counts = y_test.value_counts()\n",
    "\n",
    "# Create subplots with 1 row and 2 columns\n",
    "fig, axes = plt.subplots(1, 2, figsize=(10, 4))\n",
    "\n",
    "# Plot the distribution of the target variable in the training set\n",
    "axes[0].bar(train_value_counts.index, train_value_counts.values)\n",
    "axes[0].set_xlabel('Target')\n",
    "axes[0].set_ylabel('Count')\n",
    "axes[0].set_title('Distribution of Target in Training Set')\n",
    "\n",
    "# Plot the distribution of the target variable in the testing set\n",
    "axes[1].bar(test_value_counts.index, test_value_counts.values)\n",
    "axes[1].set_xlabel('Target')\n",
    "axes[1].set_ylabel('Count')\n",
    "axes[1].set_title('Distribution of Target in Testing Set')\n",
    "\n",
    "# Adjust the spacing between subplots\n",
    "plt.tight_layout()\n",
    "\n",
    "# Display the plot\n",
    "plt.show()\n"
   ]
  },
  {
   "cell_type": "markdown",
   "id": "6b67fbba",
   "metadata": {},
   "source": [
    "Looks good"
   ]
  },
  {
   "cell_type": "markdown",
   "id": "c3a14b8a",
   "metadata": {},
   "source": [
    "#### Number of instances and features in each split"
   ]
  },
  {
   "cell_type": "code",
   "execution_count": 34,
   "id": "b8c8eb2d",
   "metadata": {},
   "outputs": [
    {
     "name": "stdout",
     "output_type": "stream",
     "text": [
      "Number of instances in training sets: 242\n",
      "Number of instances in testing sets: 61\n"
     ]
    }
   ],
   "source": [
    "print(\"Number of instances in training sets:\",len(X_train))\n",
    "print(\"Number of instances in testing sets:\",len(X_test))"
   ]
  },
  {
   "cell_type": "code",
   "execution_count": 35,
   "id": "95633619",
   "metadata": {},
   "outputs": [
    {
     "name": "stdout",
     "output_type": "stream",
     "text": [
      "Number of features in df training set: 14\n",
      "Number of features in dummies_df training set: 17\n"
     ]
    }
   ],
   "source": [
    "print(\"Number of features in df training set:\",len(X_train.columns))\n",
    "print(\"Number of features in dummies_df training set:\",len(X_train_d.columns))\n"
   ]
  },
  {
   "cell_type": "markdown",
   "id": "c09acde5",
   "metadata": {},
   "source": [
    "# Benchmark"
   ]
  },
  {
   "cell_type": "code",
   "execution_count": 36,
   "id": "457b82b4",
   "metadata": {},
   "outputs": [
    {
     "name": "stdout",
     "output_type": "stream",
     "text": [
      "Results for Benchmark (All instances classified as positive):\n",
      "Accuracy: 0.5496\n",
      "Precision: 0.5496\n",
      "Recall: 1.0000\n",
      "F1 Score: 0.7093\n",
      "AUC Score: 0.5000\n"
     ]
    }
   ],
   "source": [
    "# Create a vector of all ones with the same length as X_train\n",
    "y_pred = [1] * len(X_train_d)\n",
    "\n",
    "# Compute evaluation metrics\n",
    "accuracy = accuracy_score(y_train_d, y_pred)\n",
    "precision = precision_score(y_train_d, y_pred)\n",
    "recall = recall_score(y_train_d, y_pred)\n",
    "f1 = f1_score(y_train_d, y_pred)\n",
    "auc = roc_auc_score(y_train_d, y_pred)\n",
    "\n",
    "# Print the results\n",
    "print(\"Results for Benchmark (All instances classified as positive):\")\n",
    "print(f\"Accuracy: {accuracy:.4f}\")\n",
    "print(f\"Precision: {precision:.4f}\")\n",
    "print(f\"Recall: {recall:.4f}\")\n",
    "print(f\"F1 Score: {f1:.4f}\")\n",
    "print(f\"AUC Score: {auc:.4f}\")\n"
   ]
  },
  {
   "cell_type": "markdown",
   "id": "d8f65f42",
   "metadata": {},
   "source": [
    "# Modeling"
   ]
  },
  {
   "cell_type": "markdown",
   "id": "3977e338",
   "metadata": {},
   "source": [
    "## Logistic Regression"
   ]
  },
  {
   "cell_type": "markdown",
   "id": "c21f85be",
   "metadata": {},
   "source": [
    "LR was chosen because of features' high pearson correlations to the target variable."
   ]
  },
  {
   "cell_type": "markdown",
   "id": "6dc90605",
   "metadata": {},
   "source": [
    "#### Normalization Selection"
   ]
  },
  {
   "cell_type": "code",
   "execution_count": 37,
   "id": "421101b5",
   "metadata": {
    "scrolled": false
   },
   "outputs": [
    {
     "name": "stdout",
     "output_type": "stream",
     "text": [
      "No normalization\n",
      "Average Accuracy: 0.8100\n",
      "Average Precision: 0.8099\n",
      "Average Recall: 0.8570\n",
      "Average F1 Score: 0.8321\n",
      "Average AUC Score: 0.8042\n",
      "\n",
      "MinMaxScaler\n",
      "Average Accuracy: 0.8264\n",
      "Average Precision: 0.8383\n",
      "Average Recall: 0.8570\n",
      "Average F1 Score: 0.8450\n",
      "Average AUC Score: 0.8224\n",
      "\n",
      "StandardScaler\n",
      "Average Accuracy: 0.8140\n",
      "Average Precision: 0.8171\n",
      "Average Recall: 0.8573\n",
      "Average F1 Score: 0.8352\n",
      "Average AUC Score: 0.8087\n",
      "\n",
      "RobustScaler\n",
      "Average Accuracy: 0.8183\n",
      "Average Precision: 0.8228\n",
      "Average Recall: 0.8573\n",
      "Average F1 Score: 0.8382\n",
      "Average AUC Score: 0.8135\n",
      "\n"
     ]
    }
   ],
   "source": [
    "# Define the normalization techniques to test\n",
    "normalizers = {\n",
    "    \"No normalization\": None,\n",
    "    \"MinMaxScaler\": MinMaxScaler(),\n",
    "    \"StandardScaler\": StandardScaler(),\n",
    "    \"RobustScaler\": RobustScaler()\n",
    "}\n",
    "\n",
    "# Perform k-fold cross-validation with different normalizers\n",
    "k = 5  # Number of folds\n",
    "\n",
    "for normalizer_name, normalizer in normalizers.items():\n",
    "    print(f\"{normalizer_name}\")\n",
    "    logreg = LogisticRegression(solver='liblinear')\n",
    "    accuracies = []\n",
    "    precisions = []\n",
    "    recalls = []\n",
    "    f1_scores = []\n",
    "    auc_scores = []  # Store AUC scores\n",
    "    \n",
    "    # Iterate over the folds\n",
    "    for train_index, val_index in StratifiedKFold(n_splits=k).split(X_train_d, y_train_d):\n",
    "        X_train_fold, X_val_fold = X_train_d.iloc[train_index], X_train_d.iloc[val_index]\n",
    "        y_train_fold, y_val_fold = y_train_d.iloc[train_index], y_train_d.iloc[val_index]\n",
    "        \n",
    "        # Apply normalization if specified\n",
    "        if normalizer:\n",
    "            X_train_fold = normalizer.fit_transform(X_train_fold)\n",
    "            X_val_fold = normalizer.transform(X_val_fold)\n",
    "        \n",
    "        # Fit the logistic regression model and evaluate on the validation set\n",
    "        logreg.fit(X_train_fold, y_train_fold)\n",
    "        y_pred = logreg.predict(X_val_fold)\n",
    "        \n",
    "        # Compute accuracy, precision, recall, F1 score, and AUC\n",
    "        accuracy = accuracy_score(y_val_fold, y_pred)\n",
    "        precision = precision_score(y_val_fold, y_pred)\n",
    "        recall = recall_score(y_val_fold, y_pred)\n",
    "        f1 = f1_score(y_val_fold, y_pred)\n",
    "        auc = roc_auc_score(y_val_fold, y_pred)\n",
    "        \n",
    "        accuracies.append(accuracy)\n",
    "        precisions.append(precision)\n",
    "        recalls.append(recall)\n",
    "        f1_scores.append(f1)\n",
    "        auc_scores.append(auc)\n",
    "    \n",
    "    # Compute and print the average of each metric\n",
    "    avg_accuracy = sum(accuracies) / k\n",
    "    avg_precision = sum(precisions) / k\n",
    "    avg_recall = sum(recalls) / k\n",
    "    avg_f1_score = sum(f1_scores) / k\n",
    "    avg_auc_score = sum(auc_scores) / k\n",
    "    \n",
    "    print(f\"Average Accuracy: {avg_accuracy:.4f}\")\n",
    "    print(f\"Average Precision: {avg_precision:.4f}\")\n",
    "    print(f\"Average Recall: {avg_recall:.4f}\")\n",
    "    print(f\"Average F1 Score: {avg_f1_score:.4f}\")\n",
    "    print(f\"Average AUC Score: {avg_auc_score:.4f}\")\n",
    "    print()\n"
   ]
  },
  {
   "cell_type": "markdown",
   "id": "60b92995",
   "metadata": {},
   "source": [
    "Because the goal is to identify heart disease, I  chose to emphasize punishing false-negetives (**recall**). A pitfall of this is that the model might try to classify too many instances as positive in order to \"catch 'em all\". Therefore, the secondary metric for evaluation is **F1 score**. I chose **MinMax Scalar** as the normalizer because it produced the best F1 and its recall was second to Standard Scalar by 0.0003."
   ]
  },
  {
   "cell_type": "markdown",
   "id": "e7e6c693",
   "metadata": {},
   "source": [
    "# Hyperparameter Optimization"
   ]
  },
  {
   "cell_type": "markdown",
   "id": "281dffb8",
   "metadata": {},
   "source": [
    "### Optimizing recall:"
   ]
  },
  {
   "cell_type": "code",
   "execution_count": 38,
   "id": "c8f695a9",
   "metadata": {},
   "outputs": [
    {
     "name": "stdout",
     "output_type": "stream",
     "text": [
      "Best Hyperparameters:\n",
      "{'logisticregression__C': 0.001, 'logisticregression__class_weight': None, 'logisticregression__fit_intercept': True, 'logisticregression__penalty': 'l2'}\n",
      "Evaluation Metrics:\n",
      "Accuracy: 0.7150510204081633\n",
      "F1 Score: 0.7883396727243069\n",
      "Recall: 0.9626780626780626\n",
      "Precision: 0.6680325814536341\n",
      "AUC: 0.8744465411132077\n"
     ]
    }
   ],
   "source": [
    "# Define the hyperparameters to search over\n",
    "param_grid = {\n",
    "    'logisticregression__C': [0.001, 0.01, 0.1, 0.2, 0.25, 0.35, 0.45, 0.5, 0.65, 0.75, 0.85, 1, 2.5, 5, 7.5, 10, 100, 1000],  # Inverse of regularization strength\n",
    "    'logisticregression__penalty': ['l1', 'l2', 'elasticnet'],  # Regularization type\n",
    "    'logisticregression__fit_intercept': [True, False],  # Whether to fit an intercept term\n",
    "    'logisticregression__class_weight': [None, 'balanced']  # Weights associated with classes\n",
    "}\n",
    "\n",
    "# Create the pipeline with scaling and logistic regression\n",
    "pipeline = make_pipeline(MinMaxScaler(), LogisticRegression(solver='liblinear'))\n",
    "\n",
    "# Perform grid search with cross-validation\n",
    "grid_search = GridSearchCV(pipeline, param_grid, cv=5, scoring='recall')\n",
    "grid_search.fit(X_train_d, y_train_d)\n",
    "\n",
    "# Print the best hyperparameters\n",
    "print(\"Best Hyperparameters:\")\n",
    "print(grid_search.best_params_)\n",
    "\n",
    "# Get the best estimator\n",
    "best_estimator = grid_search.best_estimator_\n",
    "\n",
    "# Define the scoring metrics\n",
    "scoring_metrics = ['accuracy', 'f1', 'recall', 'precision', 'roc_auc']\n",
    "\n",
    "# Perform cross-validation and get the scores\n",
    "cv_results = cross_validate(best_estimator, X_train_d, y_train_d, cv=5, scoring=scoring_metrics)\n",
    "\n",
    "# Print the evaluation metrics\n",
    "print(\"Evaluation Metrics:\")\n",
    "print(\"Accuracy:\", cv_results['test_accuracy'].mean())\n",
    "print(\"F1 Score:\", cv_results['test_f1'].mean())\n",
    "print(\"Recall:\", cv_results['test_recall'].mean())\n",
    "print(\"Precision:\", cv_results['test_precision'].mean())\n",
    "print(\"AUC:\", cv_results['test_roc_auc'].mean())\n"
   ]
  },
  {
   "cell_type": "markdown",
   "id": "ebc6a1f3",
   "metadata": {},
   "source": [
    "Optimizing recall causes the model to get \"greedy\" with positive predictions. F1 score will be the primary metric for evaluation moving forward.\n",
    "#### Optimizing F1"
   ]
  },
  {
   "cell_type": "code",
   "execution_count": 39,
   "id": "91e7a1fd",
   "metadata": {},
   "outputs": [
    {
     "name": "stdout",
     "output_type": "stream",
     "text": [
      "Best Hyperparameters:\n",
      "{'logisticregression__C': 0.65, 'logisticregression__class_weight': None, 'logisticregression__dual': False, 'logisticregression__fit_intercept': True, 'logisticregression__intercept_scaling': 1.0, 'logisticregression__max_iter': 100, 'logisticregression__penalty': 'l2', 'logisticregression__tol': 0.001}\n",
      "Evaluation Metrics:\n",
      "Accuracy: 0.8264455782312925\n",
      "F1 Score: 0.844950100256062\n",
      "Recall: 0.856980056980057\n",
      "Precision: 0.838341873180583\n",
      "AUC: 0.8812742812742813\n",
      "{'C': 0.65, 'class_weight': None, 'dual': False, 'fit_intercept': True, 'intercept_scaling': 1.0, 'max_iter': 100, 'penalty': 'l2', 'tol': 0.001}\n"
     ]
    }
   ],
   "source": [
    "\n",
    "\n",
    "# Define the hyperparameters to search over\n",
    "param_grid = {\n",
    "    'logisticregression__C': [0.001, 0.01, 0.1, 0.2, 0.25, 0.35, 0.45, 0.5, 0.65, 0.75, 0.85, 1, 2.5, 5, 7.5, 10, 100, 1000],  # Inverse of regularization strength\n",
    "    'logisticregression__penalty': ['l1', 'l2', 'elasticnet'],  # Regularization type\n",
    "    'logisticregression__fit_intercept': [True, False],  # Whether to fit an intercept term\n",
    "    'logisticregression__class_weight': [None, 'balanced'],  # Weights associated with classes\n",
    "    'logisticregression__max_iter': [100, 200, 500],  # Maximum number of iterations\n",
    "    'logisticregression__dual': [False],  # Whether to use the dual formulation\n",
    "    'logisticregression__tol': [1e-3, 1e-4, 1e-5],  # Tolerance for stopping criteria\n",
    "    'logisticregression__intercept_scaling': [1.0, 2.0, 3.0]  # Scaling factor for intercept\n",
    "}\n",
    "\n",
    "# Create the pipeline with scaling and logistic regression\n",
    "pipeline = make_pipeline(MinMaxScaler(), LogisticRegression(solver='liblinear'))\n",
    "\n",
    "# Perform grid search with cross-validation\n",
    "grid_search = GridSearchCV(pipeline, param_grid, cv=5, scoring='f1')\n",
    "grid_search.fit(X_train_d, y_train_d)\n",
    "\n",
    "# Print the best hyperparameters\n",
    "print(\"Best Hyperparameters:\")\n",
    "print(grid_search.best_params_)\n",
    "\n",
    "# Get the best estimator\n",
    "best_estimator = grid_search.best_estimator_\n",
    "\n",
    "# Define the scoring metrics\n",
    "scoring_metrics = ['accuracy', 'f1', 'recall', 'precision', 'roc_auc']\n",
    "\n",
    "# Perform cross-validation and get the scores\n",
    "cv_results = cross_validate(best_estimator, X_train_d, y_train_d, cv=5, scoring=scoring_metrics)\n",
    "\n",
    "# Print the evaluation metrics\n",
    "print(\"Evaluation Metrics:\")\n",
    "print(\"Accuracy:\", cv_results['test_accuracy'].mean())\n",
    "print(\"F1 Score:\", cv_results['test_f1'].mean())\n",
    "print(\"Recall:\", cv_results['test_recall'].mean())\n",
    "print(\"Precision:\", cv_results['test_precision'].mean())\n",
    "print(\"AUC:\", cv_results['test_roc_auc'].mean())\n",
    "\n",
    "new_params = {}\n",
    "for key, value in grid_search.best_params_.items():\n",
    "    new_key = key.replace('logisticregression__', '')\n",
    "    new_params[new_key] = value\n",
    "\n",
    "print(new_params)\n"
   ]
  },
  {
   "cell_type": "markdown",
   "id": "bacd4fab",
   "metadata": {},
   "source": [
    "## Feature Selection\n",
    "Forward Selection (with no stopping criteria)\n"
   ]
  },
  {
   "cell_type": "code",
   "execution_count": 40,
   "id": "de269d6c",
   "metadata": {},
   "outputs": [
    {
     "name": "stdout",
     "output_type": "stream",
     "text": [
      "Forward Selection:\n",
      "Iteration 1:\n",
      "Evaluation Metrics:\n",
      "{'Accuracy': 0.7562074829931973, 'Recall': 0.7971509971509971, 'Precision': 0.7696296296296297, 'F1 Score': 0.7827409913139218, 'AUC': 0.7513893513893514, 'Selected Features': ['thal_2']}\n",
      "\n",
      "Iteration 2:\n",
      "Evaluation Metrics:\n",
      "{'Accuracy': 0.7603741496598639, 'Recall': 0.8048433048433049, 'Precision': 0.7709523809523808, 'F1 Score': 0.7870736258352358, 'AUC': 0.8231475314808648, 'Selected Features': ['thal_2', 'thalach']}\n",
      "\n",
      "Iteration 3:\n",
      "Evaluation Metrics:\n",
      "{'Accuracy': 0.7728741496598639, 'Recall': 0.8048433048433049, 'Precision': 0.788994708994709, 'F1 Score': 0.7961190187208063, 'AUC': 0.8395129561796228, 'Selected Features': ['thal_2', 'thalach', 'oldpeak']}\n",
      "\n",
      "Iteration 4:\n",
      "Evaluation Metrics:\n",
      "{'Accuracy': 0.8017006802721088, 'Recall': 0.8575498575498577, 'Precision': 0.7972200830932756, 'F1 Score': 0.8254684013304703, 'AUC': 0.8552672636005969, 'Selected Features': ['thal_2', 'thalach', 'oldpeak', 'cp_2']}\n",
      "\n",
      "Iteration 5:\n",
      "Evaluation Metrics:\n",
      "{'Accuracy': 0.805952380952381, 'Recall': 0.8723646723646723, 'Precision': 0.7952729370081985, 'F1 Score': 0.8317896548314655, 'AUC': 0.8616704283370948, 'Selected Features': ['thal_2', 'thalach', 'oldpeak', 'cp_2', 'cp_1']}\n",
      "\n",
      "Iteration 6:\n",
      "Evaluation Metrics:\n",
      "{'Accuracy': 0.8141156462585034, 'Recall': 0.8794871794871794, 'Precision': 0.8046774193548387, 'F1 Score': 0.8387803992740472, 'AUC': 0.8698011864678531, 'Selected Features': ['thal_2', 'thalach', 'oldpeak', 'cp_2', 'cp_1', 'sex']}\n",
      "\n",
      "Iteration 7:\n",
      "Evaluation Metrics:\n",
      "{'Accuracy': 0.81828231292517, 'Recall': 0.8720797720797722, 'Precision': 0.8123248053392658, 'F1 Score': 0.8396992481203007, 'AUC': 0.8746266079599414, 'Selected Features': ['thal_2', 'thalach', 'oldpeak', 'cp_2', 'cp_1', 'sex', 'exang']}\n",
      "\n",
      "Iteration 8:\n",
      "Evaluation Metrics:\n",
      "{'Accuracy': 0.81828231292517, 'Recall': 0.8720797720797722, 'Precision': 0.8123248053392658, 'F1 Score': 0.8396992481203007, 'AUC': 0.8732150565483898, 'Selected Features': ['thal_2', 'thalach', 'oldpeak', 'cp_2', 'cp_1', 'sex', 'exang', 'fbs']}\n",
      "\n",
      "Iteration 9:\n",
      "Evaluation Metrics:\n",
      "{'Accuracy': 0.8183673469387754, 'Recall': 0.8720797720797722, 'Precision': 0.8127188940092166, 'F1 Score': 0.8398086124401913, 'AUC': 0.8745550745550744, 'Selected Features': ['thal_2', 'thalach', 'oldpeak', 'cp_2', 'cp_1', 'sex', 'exang', 'fbs', 'age']}\n",
      "\n",
      "Iteration 10:\n",
      "Evaluation Metrics:\n",
      "{'Accuracy': 0.8225340136054422, 'Recall': 0.8643874643874645, 'Precision': 0.8229832088564013, 'F1 Score': 0.842126187988257, 'AUC': 0.8793971460638128, 'Selected Features': ['thal_2', 'thalach', 'oldpeak', 'cp_2', 'cp_1', 'sex', 'exang', 'fbs', 'age', 'slope']}\n",
      "\n",
      "Iteration 11:\n",
      "Evaluation Metrics:\n",
      "{'Accuracy': 0.8226190476190476, 'Recall': 0.8720797720797722, 'Precision': 0.8200161209717722, 'F1 Score': 0.8434328095204424, 'AUC': 0.8750107916774583, 'Selected Features': ['thal_2', 'thalach', 'oldpeak', 'cp_2', 'cp_1', 'sex', 'exang', 'fbs', 'age', 'slope', 'thal_3']}\n",
      "\n",
      "Iteration 12:\n",
      "Evaluation Metrics:\n",
      "{'Accuracy': 0.8183673469387756, 'Recall': 0.856980056980057, 'Precision': 0.8230867285251383, 'F1 Score': 0.8381187668379788, 'AUC': 0.8804146470813137, 'Selected Features': ['thal_2', 'thalach', 'oldpeak', 'cp_2', 'cp_1', 'sex', 'exang', 'fbs', 'age', 'slope', 'thal_3', 'cp_3']}\n",
      "\n",
      "Iteration 13:\n",
      "Evaluation Metrics:\n",
      "{'Accuracy': 0.8183673469387754, 'Recall': 0.8643874643874645, 'Precision': 0.820794822530084, 'F1 Score': 0.8394361295087247, 'AUC': 0.879654296320963, 'Selected Features': ['thal_2', 'thalach', 'oldpeak', 'cp_2', 'cp_1', 'sex', 'exang', 'fbs', 'age', 'slope', 'thal_3', 'cp_3', 'trestbps']}\n",
      "\n",
      "Iteration 14:\n",
      "Evaluation Metrics:\n",
      "{'Accuracy': 0.8142857142857143, 'Recall': 0.8495726495726496, 'Precision': 0.8235751604717121, 'F1 Score': 0.8341740715424926, 'AUC': 0.8771530938197605, 'Selected Features': ['thal_2', 'thalach', 'oldpeak', 'cp_2', 'cp_1', 'sex', 'exang', 'fbs', 'age', 'slope', 'thal_3', 'cp_3', 'trestbps', 'chol']}\n",
      "\n",
      "Iteration 15:\n",
      "Evaluation Metrics:\n",
      "{'Accuracy': 0.8059523809523809, 'Recall': 0.8421652421652421, 'Precision': 0.816432303328855, 'F1 Score': 0.8269013442697652, 'AUC': 0.8771148604481939, 'Selected Features': ['thal_2', 'thalach', 'oldpeak', 'cp_2', 'cp_1', 'sex', 'exang', 'fbs', 'age', 'slope', 'thal_3', 'cp_3', 'trestbps', 'chol', 'chol_winsorized']}\n",
      "\n",
      "Iteration 16:\n",
      "Evaluation Metrics:\n",
      "{'Accuracy': 0.8060374149659865, 'Recall': 0.8424501424501425, 'Precision': 0.8139458842007569, 'F1 Score': 0.8264869967125605, 'AUC': 0.8848528015194681, 'Selected Features': ['thal_2', 'thalach', 'oldpeak', 'cp_2', 'cp_1', 'sex', 'exang', 'fbs', 'age', 'slope', 'thal_3', 'cp_3', 'trestbps', 'chol', 'chol_winsorized', 'ca']}\n",
      "\n",
      "Iteration 17:\n",
      "Evaluation Metrics:\n",
      "{'Accuracy': 0.8264455782312925, 'Recall': 0.856980056980057, 'Precision': 0.838341873180583, 'F1 Score': 0.844950100256062, 'AUC': 0.8815980315980317, 'Selected Features': ['thal_2', 'thalach', 'oldpeak', 'cp_2', 'cp_1', 'sex', 'exang', 'fbs', 'age', 'slope', 'thal_3', 'cp_3', 'trestbps', 'chol', 'chol_winsorized', 'ca', 'abnormal_restecg']}\n",
      "\n",
      "Features with the Best F1 Score:\n",
      "['thal_2', 'thalach', 'oldpeak', 'cp_2', 'cp_1', 'sex', 'exang', 'fbs', 'age', 'slope', 'thal_3', 'cp_3', 'trestbps', 'chol', 'chol_winsorized', 'ca', 'abnormal_restecg']\n"
     ]
    }
   ],
   "source": [
    "# Initialize an empty list to store selected feature indices and names\n",
    "selected_features_indices = []\n",
    "selected_features_names = []\n",
    "\n",
    "# Perform forward selection\n",
    "feature_scores = []\n",
    "best_f1_score = -np.inf\n",
    "best_selected_features = None\n",
    "\n",
    "for i in range(X_train_d.shape[1]):\n",
    "    best_metric = -np.inf\n",
    "    best_feature_idx = None\n",
    "    \n",
    "    # Iterate over the remaining features\n",
    "    for j in range(X_train_d.shape[1]):\n",
    "        if j not in selected_features_indices:\n",
    "            # Add the j-th feature to the selected features\n",
    "            selected_features_indices.append(j)\n",
    "            selected_features_names.append(X_train_d.columns[j])\n",
    "            \n",
    "            # Select the features based on the selected indices\n",
    "            X_train_selected = X_train_d.iloc[:, selected_features_indices]\n",
    "            \n",
    "            # Apply feature scaling after each fold split\n",
    "            pipeline = make_pipeline(MinMaxScaler(), LogisticRegression(solver='liblinear'))\n",
    "            \n",
    "            # Perform cross-validation on the selected features\n",
    "            cv_results = cross_validate(pipeline, X_train_selected, y_train_d, cv=5, scoring=scoring_metrics)\n",
    "            \n",
    "            # Get the average evaluation metrics\n",
    "            avg_f1 = cv_results['test_f1'].mean()\n",
    "            avg_accuracy = cv_results['test_accuracy'].mean()\n",
    "            avg_recall = cv_results['test_recall'].mean()\n",
    "            avg_precision = cv_results['test_precision'].mean()\n",
    "            avg_auc = cv_results['test_roc_auc'].mean()\n",
    "            \n",
    "            # If the current metric is better than the best metric so far, update the best metric and feature index\n",
    "            if avg_f1 > best_metric:\n",
    "                best_metric = avg_f1\n",
    "                best_feature_idx = j\n",
    "            \n",
    "            # Remove the j-th feature from the selected features for the next iteration\n",
    "            selected_features_indices.remove(j)\n",
    "            selected_features_names.remove(X_train_d.columns[j])\n",
    "    \n",
    "    # If a feature was selected in this iteration, add it to the selected features list\n",
    "    if best_feature_idx is not None:\n",
    "        selected_features_indices.append(best_feature_idx)\n",
    "        selected_features_names.append(X_train_d.columns[best_feature_idx])\n",
    "        \n",
    "        # Select the features based on the selected indices\n",
    "        X_train_selected = X_train_d.iloc[:, selected_features_indices]\n",
    "        \n",
    "        # Apply feature scaling after each fold split\n",
    "        pipeline = make_pipeline(MinMaxScaler(), LogisticRegression(solver='liblinear'))\n",
    "        \n",
    "        # Perform cross-validation on the selected features\n",
    "        cv_results = cross_validate(pipeline, X_train_selected, y_train_d, cv=5, scoring=scoring_metrics)\n",
    "        \n",
    "        # Get the average evaluation metrics\n",
    "        avg_f1 = cv_results['test_f1'].mean()\n",
    "        avg_accuracy = cv_results['test_accuracy'].mean()\n",
    "        avg_recall = cv_results['test_recall'].mean()\n",
    "        avg_precision = cv_results['test_precision'].mean()\n",
    "        avg_auc = cv_results['test_roc_auc'].mean()\n",
    "        \n",
    "        # Store the evaluation metrics and selected features for each iteration\n",
    "        feature_scores.append({\n",
    "            'Accuracy': avg_accuracy,\n",
    "            'Recall': avg_recall,\n",
    "            'Precision': avg_precision,\n",
    "            'F1 Score': avg_f1,\n",
    "            'AUC': avg_auc,\n",
    "            'Selected Features': selected_features_names.copy()\n",
    "        })\n",
    "        \n",
    "        # Check if the current iteration has the best F1 score\n",
    "        if avg_f1 > best_f1_score:\n",
    "            best_f1_score = avg_f1\n",
    "            best_selected_features = selected_features_names.copy()\n",
    "\n",
    "# Print the selected features and evaluation metrics for each iteration\n",
    "print(\"Forward Selection:\")\n",
    "for i, scores in enumerate(feature_scores):\n",
    "    print(f\"Iteration {i+1}:\")\n",
    "    print(\"Evaluation Metrics:\")\n",
    "    print(scores)\n",
    "    print()\n",
    "\n",
    "# Print the selected features with the best F1 score\n",
    "print(\"Features with the Best F1 Score:\")\n",
    "print(best_selected_features)\n"
   ]
  },
  {
   "cell_type": "code",
   "execution_count": 41,
   "id": "f40d75bf",
   "metadata": {},
   "outputs": [
    {
     "data": {
      "image/png": "[encoded data removed]",
      "text/plain": [
       "<Figure size 1000x800 with 1 Axes>"
      ]
     },
     "metadata": {},
     "output_type": "display_data"
    }
   ],
   "source": [
    "# Extract the F1 scores and number of features from the feature_scores\n",
    "f1_scores = [scores['F1 Score'] for scores in feature_scores]\n",
    "num_features = range(1, len(f1_scores) + 1)\n",
    "\n",
    "# Plot the F1 score as a function of the number of features\n",
    "plt.plot(num_features, f1_scores, marker='o')\n",
    "plt.xlabel('Number of Features')\n",
    "plt.ylabel('F1 Score')\n",
    "plt.title('F1 Score as a Function of Number of Features')\n",
    "plt.grid(True)\n",
    "plt.show()"
   ]
  },
  {
   "cell_type": "markdown",
   "id": "5d69aa22",
   "metadata": {},
   "source": [
    "All 17 features produce the best F1 score. "
   ]
  },
  {
   "cell_type": "markdown",
   "id": "c0ca827f",
   "metadata": {},
   "source": [
    "## Algorithm Intropspection:"
   ]
  },
  {
   "cell_type": "markdown",
   "id": "de387d26",
   "metadata": {},
   "source": [
    "#### Retrieve feature importance\n",
    "We can trust the weights because each feature was normalized-- the best_estimator variable is a pipeline of MinMaxScalar and LogisticRegression."
   ]
  },
  {
   "cell_type": "code",
   "execution_count": 42,
   "id": "ad565c3b",
   "metadata": {},
   "outputs": [
    {
     "name": "stdout",
     "output_type": "stream",
     "text": [
      "Feature Weights:\n",
      "chol: -0.1229093511378083\n",
      "fbs: 0.22851238968733456\n",
      "age: -0.3647621448355951\n",
      "chol_winsorized: -0.3827039030275689\n",
      "abnormal_restecg: 0.4159934221563407\n",
      "trestbps: -0.5146345240696387\n",
      "cp_1: 0.6540227310657132\n",
      "thal_2: 0.660036512970563\n",
      "thal_3: -0.7012676494563264\n",
      "sex: -0.845890678906974\n",
      "cp_3: 0.847586731295064\n",
      "thalach: 0.8639674800135226\n",
      "exang: -0.9784799986068115\n",
      "slope: 0.9960860803337096\n",
      "cp_2: 1.1197167442813103\n",
      "oldpeak: -1.1744420993366576\n",
      "ca: -1.693872442805481\n"
     ]
    },
    {
     "data": {
      "image/png": "[encoded data removed]",
      "text/plain": [
       "<Figure size 800x600 with 1 Axes>"
      ]
     },
     "metadata": {},
     "output_type": "display_data"
    }
   ],
   "source": [
    "# Retrieve feature names\n",
    "feature_names = X_train_d.columns\n",
    "\n",
    "# Retrieve feature weights (coefficients)\n",
    "feature_weights = best_estimator.named_steps['logisticregression'].coef_[0]\n",
    "\n",
    "# Sort feature names based on feature weights\n",
    "sorted_indices = np.argsort(np.abs(feature_weights))\n",
    "sorted_feature_names = feature_names[sorted_indices]\n",
    "sorted_feature_weights = feature_weights[sorted_indices]\n",
    "\n",
    "# Print feature weights with names\n",
    "print(\"Feature Weights:\")\n",
    "for feature_name, weight in zip(sorted_feature_names, sorted_feature_weights):\n",
    "    print(f\"{feature_name}: {weight}\")\n",
    "\n",
    "# Create a bar plot of feature importance\n",
    "plt.figure(figsize=(8, 6))\n",
    "plt.barh(sorted_feature_names, np.abs(sorted_feature_weights))\n",
    "plt.xlabel('Absolute Weight')\n",
    "plt.ylabel('Features')\n",
    "plt.title('Feature Importance (Logistic Regression)')\n",
    "plt.show()"
   ]
  },
  {
   "cell_type": "markdown",
   "id": "ee5eef90",
   "metadata": {},
   "source": [
    "Number of major vessels (ca) is by far the most important feature."
   ]
  },
  {
   "cell_type": "markdown",
   "id": "8e52d418",
   "metadata": {},
   "source": [
    "#### Best alpha (eta)"
   ]
  },
  {
   "cell_type": "code",
   "execution_count": 43,
   "id": "eaf8a03e",
   "metadata": {},
   "outputs": [
    {
     "name": "stdout",
     "output_type": "stream",
     "text": [
      "0.65\n"
     ]
    }
   ],
   "source": [
    "print(new_params[\"C\"])"
   ]
  },
  {
   "cell_type": "markdown",
   "id": "793f673c",
   "metadata": {},
   "source": [
    "#### Best Epsilon"
   ]
  },
  {
   "cell_type": "code",
   "execution_count": 44,
   "id": "7c93717d",
   "metadata": {},
   "outputs": [
    {
     "name": "stdout",
     "output_type": "stream",
     "text": [
      "0.001\n"
     ]
    }
   ],
   "source": [
    "print(new_params[\"tol\"])"
   ]
  },
  {
   "cell_type": "markdown",
   "id": "8d3d019d",
   "metadata": {},
   "source": [
    "#### Best measurement for penalty"
   ]
  },
  {
   "cell_type": "code",
   "execution_count": 45,
   "id": "6eb074f1",
   "metadata": {},
   "outputs": [
    {
     "name": "stdout",
     "output_type": "stream",
     "text": [
      "l2\n"
     ]
    }
   ],
   "source": [
    "print(new_params[\"penalty\"])"
   ]
  },
  {
   "cell_type": "markdown",
   "id": "fc85bab3",
   "metadata": {},
   "source": [
    "#### Best maximum limit of iterations during convergence"
   ]
  },
  {
   "cell_type": "code",
   "execution_count": 46,
   "id": "466f59ad",
   "metadata": {},
   "outputs": [
    {
     "name": "stdout",
     "output_type": "stream",
     "text": [
      "100\n"
     ]
    }
   ],
   "source": [
    "print(new_params[\"max_iter\"])"
   ]
  },
  {
   "cell_type": "markdown",
   "id": "1f43ef29",
   "metadata": {},
   "source": [
    "## Sanity check: comparing training and validation results"
   ]
  },
  {
   "cell_type": "code",
   "execution_count": 47,
   "id": "b36a0fd3",
   "metadata": {},
   "outputs": [
    {
     "name": "stdout",
     "output_type": "stream",
     "text": [
      "\n",
      "Training Fold Evaluation Metrics:\n",
      "Accuracy: 0.8429838149671491\n",
      "F1 Score: 0.8613511894677572\n",
      "Recall: 0.8872332921883267\n",
      "Precision: 0.8369676983292544\n",
      "AUC: 0.9208410284445954\n",
      "\n",
      "Validation Fold Evaluation Metrics:\n",
      "Accuracy: 0.8264455782312925\n",
      "F1 Score: 0.844950100256062\n",
      "Recall: 0.856980056980057\n",
      "Precision: 0.838341873180583\n",
      "AUC: 0.8812742812742813\n"
     ]
    }
   ],
   "source": [
    "# Define the scoring metrics\n",
    "scoring_metrics = ['accuracy', 'f1', 'recall', 'precision', 'roc_auc']\n",
    "\n",
    "\n",
    "\n",
    "# Perform cross-validation and get the scores\n",
    "cv_results = cross_validate(best_estimator, X_train_d, y_train_d, cv=5, scoring=scoring_metrics,return_train_score=True)\n",
    "\n",
    "# Print the evaluation metrics for validation folds\n",
    "print(\"\\nTraining Fold Evaluation Metrics:\")\n",
    "print(\"Accuracy:\", cv_results['train_accuracy'].mean())\n",
    "print(\"F1 Score:\", cv_results['train_f1'].mean())\n",
    "print(\"Recall:\", cv_results['train_recall'].mean())\n",
    "print(\"Precision:\", cv_results['train_precision'].mean())\n",
    "print(\"AUC:\", cv_results['train_roc_auc'].mean())\n",
    "\n",
    "\n",
    "# Print the evaluation metrics for validation folds\n",
    "print(\"\\nValidation Fold Evaluation Metrics:\")\n",
    "print(\"Accuracy:\", cv_results['test_accuracy'].mean())\n",
    "print(\"F1 Score:\", cv_results['test_f1'].mean())\n",
    "print(\"Recall:\", cv_results['test_recall'].mean())\n",
    "print(\"Precision:\", cv_results['test_precision'].mean())\n",
    "print(\"AUC:\", cv_results['test_roc_auc'].mean())\n"
   ]
  },
  {
   "cell_type": "code",
   "execution_count": 48,
   "id": "732deb3c",
   "metadata": {},
   "outputs": [],
   "source": [
    "logistic_regression = best_estimator"
   ]
  },
  {
   "cell_type": "markdown",
   "id": "b20fd5d6",
   "metadata": {},
   "source": [
    "# Building and Optimizing Classifiers for Ensemble\n",
    "Optimization is done using k-folds cross validation on the training set."
   ]
  },
  {
   "cell_type": "markdown",
   "id": "1b03d7ac",
   "metadata": {},
   "source": [
    "## KNN"
   ]
  },
  {
   "cell_type": "markdown",
   "id": "d5c4e2bd",
   "metadata": {},
   "source": [
    "Standard scalar was used after testing normalizers manually"
   ]
  },
  {
   "cell_type": "code",
   "execution_count": 49,
   "id": "bc1a4006",
   "metadata": {
    "scrolled": false
   },
   "outputs": [
    {
     "name": "stdout",
     "output_type": "stream",
     "text": [
      "Training Fold Evaluation Metrics:\n",
      "Accuracy: 1.0\n",
      "Precision: 1.0\n",
      "Recall: 1.0\n",
      "F1 Score: 1.0\n",
      "AUC: 1.0\n",
      "\n",
      "Validation Metrics:\n",
      "Accuracy: 0.8429421768707483\n",
      "Precision: 0.8124528998069044\n",
      "Recall: 0.9321937321937324\n",
      "F1 Score: 0.867791769241214\n",
      "AUC: 0.9177785177785178\n"
     ]
    }
   ],
   "source": [
    "from sklearn.neighbors import KNeighborsClassifier\n",
    "\n",
    "\n",
    "# Create a pipeline with StandardScaler and KNeighborsClassifier\n",
    "pipeline = make_pipeline(StandardScaler(), KNeighborsClassifier())\n",
    "\n",
    "# Define scoring metrics\n",
    "scoring_metrics = ['accuracy', 'precision', 'recall', 'f1', 'roc_auc']\n",
    "\n",
    "# Define the parameter grid for hyperparameter tuning\n",
    "param_grid = {\n",
    "    'kneighborsclassifier__n_neighbors': range(0,25),\n",
    "    'kneighborsclassifier__weights': ['uniform', 'distance'],\n",
    "    'kneighborsclassifier__p': [1, 2]\n",
    "}\n",
    "\n",
    "# Perform grid search using cross-validation\n",
    "grid_search = GridSearchCV(pipeline, param_grid, cv=5, scoring='f1')\n",
    "\n",
    "# Fit the grid search to the training data\n",
    "grid_search.fit(X_train, y_train)\n",
    "\n",
    "# Get the best hyperparameters and the best model\n",
    "best_params = grid_search.best_params_\n",
    "knn = grid_search.best_estimator_\n",
    "\n",
    "# Perform cross-validation and get the scores with the best model\n",
    "cv_results = cross_validate(knn, X_train, y_train, cv=5, scoring=scoring_metrics, return_train_score=True)\n",
    "\n",
    "# Print the evaluation metrics for training folds\n",
    "print(\"Training Fold Evaluation Metrics:\")\n",
    "print(\"Accuracy:\", cv_results['train_accuracy'].mean())\n",
    "print(\"Precision:\", cv_results['train_precision'].mean())\n",
    "print(\"Recall:\", cv_results['train_recall'].mean())\n",
    "print(\"F1 Score:\", cv_results['train_f1'].mean())\n",
    "print(\"AUC:\", cv_results['train_roc_auc'].mean())\n",
    "\n",
    "# Print the evaluation metrics for validation folds\n",
    "print(\"\\nValidation Metrics:\")\n",
    "print(\"Accuracy:\", cv_results['test_accuracy'].mean())\n",
    "print(\"Precision:\", cv_results['test_precision'].mean())\n",
    "print(\"Recall:\", cv_results['test_recall'].mean())\n",
    "print(\"F1 Score:\", cv_results['test_f1'].mean())\n",
    "print(\"AUC:\", cv_results['test_roc_auc'].mean())\n"
   ]
  },
  {
   "cell_type": "markdown",
   "id": "a2410694",
   "metadata": {},
   "source": [
    "## Adaboost (decision tree)"
   ]
  },
  {
   "cell_type": "markdown",
   "id": "a572db1e",
   "metadata": {},
   "source": [
    "#### Adaboost without optimization"
   ]
  },
  {
   "cell_type": "code",
   "execution_count": 50,
   "id": "38beadfb",
   "metadata": {},
   "outputs": [
    {
     "name": "stdout",
     "output_type": "stream",
     "text": [
      "Training Fold Evaluation Metrics:\n",
      "Accuracy: 1.0\n",
      "Precision: 1.0\n",
      "Recall: 1.0\n",
      "F1 Score: 1.0\n",
      "AUC: 1.0\n",
      "\n",
      "Validation Metrics:\n",
      "Accuracy: 0.7726190476190475\n",
      "Precision: 0.7931773689273689\n",
      "Recall: 0.7960113960113959\n",
      "F1 Score: 0.7919733831886054\n",
      "AUC: 0.7692178192178192\n"
     ]
    }
   ],
   "source": [
    "from sklearn.ensemble import AdaBoostClassifier\n",
    "from sklearn.tree import DecisionTreeClassifier\n",
    "\n",
    "# Create an instance of the base classifier\n",
    "classifier = DecisionTreeClassifier()\n",
    "\n",
    "# Create an instance of the AdaBoost classifier\n",
    "adaboost = AdaBoostClassifier(base_estimator=classifier)\n",
    "\n",
    "# Define the scoring metrics\n",
    "scoring_metrics = ['accuracy', 'precision', 'recall', 'f1', 'roc_auc']\n",
    "\n",
    "# Perform cross-validation and get the scores\n",
    "cv_results = cross_validate(adaboost, X_train, y_train, cv=5, scoring=scoring_metrics, return_train_score=True)\n",
    "\n",
    "# Print the evaluation metrics for training folds\n",
    "print(\"Training Fold Evaluation Metrics:\")\n",
    "print(\"Accuracy:\", cv_results['train_accuracy'].mean())\n",
    "print(\"Precision:\", cv_results['train_precision'].mean())\n",
    "print(\"Recall:\", cv_results['train_recall'].mean())\n",
    "print(\"F1 Score:\", cv_results['train_f1'].mean())\n",
    "print(\"AUC:\", cv_results['train_roc_auc'].mean())\n",
    "\n",
    "# Print the evaluation metrics for validation folds\n",
    "print(\"\\nValidation Metrics:\")\n",
    "print(\"Accuracy:\", cv_results['test_accuracy'].mean())\n",
    "print(\"Precision:\", cv_results['test_precision'].mean())\n",
    "print(\"Recall:\", cv_results['test_recall'].mean())\n",
    "print(\"F1 Score:\", cv_results['test_f1'].mean())\n",
    "print(\"AUC:\", cv_results['test_roc_auc'].mean())\n"
   ]
  },
  {
   "cell_type": "markdown",
   "id": "8275bce8",
   "metadata": {},
   "source": [
    "#### Adaboost with optimization"
   ]
  },
  {
   "cell_type": "code",
   "execution_count": 51,
   "id": "4bca49c8",
   "metadata": {},
   "outputs": [
    {
     "name": "stdout",
     "output_type": "stream",
     "text": [
      "Best Hyperparameters: {'learning_rate': 0.01, 'n_estimators': 200}\n",
      "Best Score: 0.8523573583101713\n",
      "Training Fold Evaluation Metrics:\n",
      "Accuracy: 0.8440094012072004\n",
      "Precision: 0.8190896358543418\n",
      "Recall: 0.9191676952918357\n",
      "F1 Score: 0.866247674987763\n",
      "AUC: 0.9276165658494232\n",
      "\n",
      "Validation Metrics:\n",
      "Accuracy: 0.83078231292517\n",
      "Precision: 0.816433908045977\n",
      "Recall: 0.8954415954415955\n",
      "F1 Score: 0.8523573583101713\n",
      "AUC: 0.9045106128439461\n"
     ]
    }
   ],
   "source": [
    "# Step 2: Instantiate the AdaBoost classifier\n",
    "adaboost = AdaBoostClassifier()\n",
    "\n",
    "# Step 3: Define the hyperparameters you want to optimize\n",
    "param_grid = {\n",
    "    'n_estimators': [100, 200,300],\n",
    "    'learning_rate': [0.005, 0.01, 0.1, 0.5, 1.0],\n",
    "}\n",
    "\n",
    "# Step 4: Perform k-fold cross-validation with hyperparameter optimization\n",
    "k = 5  # Number of folds for cross-validation\n",
    "cv = StratifiedKFold(n_splits=k, shuffle=True, random_state=42)\n",
    "\n",
    "grid_search = GridSearchCV(adaboost, param_grid=param_grid, cv=cv, scoring='f1')\n",
    "\n",
    "# Step 5: Fit the model to the training data\n",
    "grid_search.fit(X_train, y_train)\n",
    "\n",
    "# Step 6: Get the best hyperparameters and evaluate the model\n",
    "best_params = grid_search.best_params_\n",
    "best_score = grid_search.best_score_\n",
    "\n",
    "print(\"Best Hyperparameters:\", best_params)\n",
    "print(\"Best Score:\", best_score)\n",
    "\n",
    "adaboost = grid_search.best_estimator_\n",
    "\n",
    "# Define the scoring metrics\n",
    "scoring_metrics = ['accuracy', 'precision', 'recall', 'f1', 'roc_auc']\n",
    "\n",
    "# Step 8: Perform cross-validation and get the scores\n",
    "cv_results = cross_validate(adaboost, X_train, y_train, cv=cv, scoring=scoring_metrics, return_train_score=True)\n",
    "\n",
    "# Print the evaluation metrics for training folds\n",
    "print(\"Training Fold Evaluation Metrics:\")\n",
    "print(\"Accuracy:\", cv_results['train_accuracy'].mean())\n",
    "print(\"Precision:\", cv_results['train_precision'].mean())\n",
    "print(\"Recall:\", cv_results['train_recall'].mean())\n",
    "print(\"F1 Score:\", cv_results['train_f1'].mean())\n",
    "print(\"AUC:\", cv_results['train_roc_auc'].mean())\n",
    "\n",
    "# Print the evaluation metrics for validation folds\n",
    "print(\"\\nValidation Metrics:\")\n",
    "print(\"Accuracy:\", cv_results['test_accuracy'].mean())\n",
    "print(\"Precision:\", cv_results['test_precision'].mean())\n",
    "print(\"Recall:\", cv_results['test_recall'].mean())\n",
    "print(\"F1 Score:\", cv_results['test_f1'].mean())\n",
    "print(\"AUC:\", cv_results['test_roc_auc'].mean())"
   ]
  },
  {
   "cell_type": "markdown",
   "id": "ef9185ba",
   "metadata": {},
   "source": [
    "We can see significant improvement in every metric."
   ]
  },
  {
   "cell_type": "code",
   "execution_count": 52,
   "id": "0fac6460",
   "metadata": {},
   "outputs": [
    {
     "data": {
      "text/plain": [
       "AdaBoostClassifier(learning_rate=0.01, n_estimators=200)"
      ]
     },
     "execution_count": 52,
     "metadata": {},
     "output_type": "execute_result"
    }
   ],
   "source": [
    "adaboost"
   ]
  },
  {
   "cell_type": "markdown",
   "id": "287dda89",
   "metadata": {},
   "source": [
    "## Naive Bayes"
   ]
  },
  {
   "cell_type": "code",
   "execution_count": 53,
   "id": "630228ef",
   "metadata": {
    "scrolled": true
   },
   "outputs": [
    {
     "name": "stdout",
     "output_type": "stream",
     "text": [
      "Best Hyperparameters:\n",
      "learning_rate: 0.01\n",
      "n_estimators: 200\n",
      "\n",
      "Training Fold Evaluation Metrics:\n",
      "Accuracy: 0.825420650606271\n",
      "Precision: 0.8331553298644641\n",
      "Recall: 0.8533415623346853\n",
      "F1 Score: 0.8430536798595492\n",
      "AUC: 0.9143985735046426\n",
      "\n",
      "Validation Metrics:\n",
      "Accuracy: 0.8055272108843538\n",
      "Precision: 0.8256659368728336\n",
      "Recall: 0.8193732193732194\n",
      "F1 Score: 0.8214086897194555\n",
      "AUC: 0.8775298775298775\n"
     ]
    }
   ],
   "source": [
    "from sklearn.naive_bayes import GaussianNB\n",
    "\n",
    "\n",
    "# Define the parameter grid for hyperparameter tuning\n",
    "param_grid = {'var_smoothing': [1e-9, 1e-8, 1e-7, 1e-6, 1e-5],\n",
    "              'priors': [None, [0.5, 0.5], [0.7, 0.3], [0.3, 0.7]]}\n",
    "\n",
    "\n",
    "# Create a Gaussian Naive Bayes classifier\n",
    "nb = GaussianNB()\n",
    "\n",
    "# Perform grid search using k-fold cross-validation\n",
    "kfold = KFold(n_splits=5, shuffle=True, random_state=42)\n",
    "grid_search = GridSearchCV(nb, param_grid, cv=kfold)\n",
    "\n",
    "# Fit the grid search to the training data\n",
    "grid_search.fit(X_train, y_train)\n",
    "\n",
    "# Get the best hyperparameters and the best model\n",
    "best_params_NB = grid_search.best_params_\n",
    "best_model = grid_search.best_estimator_\n",
    "\n",
    "# Print the best hyperparameters\n",
    "print(\"Best Hyperparameters:\")\n",
    "for param, value in best_params.items():\n",
    "    print(f\"{param}: {value}\")\n",
    "\n",
    "# Create an instance of the Naive Bayes classifier\n",
    "naive_bayes = GaussianNB(**best_params_NB)\n",
    "\n",
    "# Define the scoring metrics\n",
    "scoring_metrics = ['accuracy', 'precision', 'recall', 'f1', 'roc_auc']\n",
    "\n",
    "# Perform cross-validation and get the scores\n",
    "cv_results = cross_validate(naive_bayes, X_train, y_train, cv=5, scoring=scoring_metrics, return_train_score=True)\n",
    "\n",
    "# Print the evaluation metrics for training folds\n",
    "print(\"\\nTraining Fold Evaluation Metrics:\")\n",
    "print(\"Accuracy:\", cv_results['train_accuracy'].mean())\n",
    "print(\"Precision:\", cv_results['train_precision'].mean())\n",
    "print(\"Recall:\", cv_results['train_recall'].mean())\n",
    "print(\"F1 Score:\", cv_results['train_f1'].mean())\n",
    "print(\"AUC:\", cv_results['train_roc_auc'].mean())\n",
    "\n",
    "# Print the evaluation metrics for validation folds\n",
    "print(\"\\nValidation Metrics:\")\n",
    "print(\"Accuracy:\", cv_results['test_accuracy'].mean())\n",
    "print(\"Precision:\", cv_results['test_precision'].mean())\n",
    "print(\"Recall:\", cv_results['test_recall'].mean())\n",
    "print(\"F1 Score:\", cv_results['test_f1'].mean())\n",
    "print(\"AUC:\", cv_results['test_roc_auc'].mean())\n"
   ]
  },
  {
   "cell_type": "markdown",
   "id": "dd202b8a",
   "metadata": {},
   "source": [
    "Note: the best hyperparameters are the default ones."
   ]
  },
  {
   "cell_type": "markdown",
   "id": "7453ae3f",
   "metadata": {},
   "source": [
    "## Random Forest"
   ]
  },
  {
   "cell_type": "code",
   "execution_count": 54,
   "id": "e3b09a46",
   "metadata": {
    "scrolled": true
   },
   "outputs": [
    {
     "name": "stdout",
     "output_type": "stream",
     "text": [
      "Training Fold Evaluation Metrics:\n",
      "Accuracy: 1.0\n",
      "Precision: 1.0\n",
      "Recall: 1.0\n",
      "F1 Score: 1.0\n",
      "AUC: 1.0\n",
      "\n",
      "Validation Metrics:\n",
      "Accuracy: 0.8224489795918368\n",
      "Precision: 0.8284840547743773\n",
      "Recall: 0.8572649572649572\n",
      "F1 Score: 0.8408430633440392\n",
      "AUC: 0.9054541137874471\n"
     ]
    }
   ],
   "source": [
    "from sklearn.ensemble import RandomForestClassifier\n",
    "\n",
    "np.random.seed(42)\n",
    "\n",
    "# Create an instance of the Random Forest classifier\n",
    "random_forest = RandomForestClassifier()\n",
    "\n",
    "# Define the scoring metrics\n",
    "scoring_metrics = ['accuracy', 'precision', 'recall', 'f1', 'roc_auc']\n",
    "\n",
    "# Perform cross-validation and get the scores\n",
    "cv_results = cross_validate(random_forest, X_train, y_train, cv=5, scoring=scoring_metrics, return_train_score=True)\n",
    "\n",
    "# Print the evaluation metrics for training folds\n",
    "print(\"Training Fold Evaluation Metrics:\")\n",
    "print(\"Accuracy:\", cv_results['train_accuracy'].mean())\n",
    "print(\"Precision:\", cv_results['train_precision'].mean())\n",
    "print(\"Recall:\", cv_results['train_recall'].mean())\n",
    "print(\"F1 Score:\", cv_results['train_f1'].mean())\n",
    "print(\"AUC:\", cv_results['train_roc_auc'].mean())\n",
    "\n",
    "# Print the evaluation metrics for validation folds\n",
    "print(\"\\nValidation Metrics:\")\n",
    "print(\"Accuracy:\", cv_results['test_accuracy'].mean())\n",
    "print(\"Precision:\", cv_results['test_precision'].mean())\n",
    "print(\"Recall:\", cv_results['test_recall'].mean())\n",
    "print(\"F1 Score:\", cv_results['test_f1'].mean())\n",
    "print(\"AUC:\", cv_results['test_roc_auc'].mean())"
   ]
  },
  {
   "cell_type": "code",
   "execution_count": 55,
   "id": "13c1d992",
   "metadata": {},
   "outputs": [
    {
     "name": "stdout",
     "output_type": "stream",
     "text": [
      "Best Hyperparameters:\n",
      "bootstrap: True\n",
      "max_depth: None\n",
      "min_samples_leaf: 2\n",
      "min_samples_split: 5\n",
      "n_estimators: 100\n"
     ]
    }
   ],
   "source": [
    "from sklearn.datasets import make_classification\n",
    "from sklearn.ensemble import RandomForestClassifier\n",
    "\n",
    "np.random.seed(42)\n",
    "\n",
    "\n",
    "# Define the parameter grid for hyperparameter tuning\n",
    "param_grid = {\n",
    "    'n_estimators': [100,200,300],\n",
    "    'max_depth': [None, 10],\n",
    "    'min_samples_split': [2, 5, 10],\n",
    "    'min_samples_leaf': [1, 2, 4],\n",
    "    'bootstrap': [True, False]\n",
    "}\n",
    "\n",
    "# Create a Random Forest classifier\n",
    "rf = RandomForestClassifier(random_state=42)\n",
    "\n",
    "# Perform grid search using k-fold cross-validation\n",
    "kfold = KFold(n_splits=5, shuffle=True, random_state=42)\n",
    "grid_search = GridSearchCV(rf, param_grid, cv=kfold,scoring='f1')\n",
    "\n",
    "# Fit the grid search to the training data\n",
    "grid_search.fit(X_train, y_train)\n",
    "\n",
    "# Get the best hyperparameters and the best model\n",
    "best_params_rf = grid_search.best_params_\n",
    "best_model = grid_search.best_estimator_\n",
    "\n",
    "# Print the best hyperparameters\n",
    "print(\"Best Hyperparameters:\")\n",
    "for param, value in best_params_rf.items():\n",
    "    print(f\"{param}: {value}\")\n"
   ]
  },
  {
   "cell_type": "code",
   "execution_count": 56,
   "id": "25891ed3",
   "metadata": {},
   "outputs": [
    {
     "name": "stdout",
     "output_type": "stream",
     "text": [
      "Training Fold Evaluation Metrics:\n",
      "Accuracy: 0.9783238074889162\n",
      "Precision: 0.9724723424723425\n",
      "Recall: 0.9887321460059955\n",
      "F1 Score: 0.98048901363465\n",
      "AUC: 0.9978234051887668\n",
      "\n",
      "Validation Metrics:\n",
      "Accuracy: 0.8016156462585033\n",
      "Precision: 0.8072302440689537\n",
      "Recall: 0.8418803418803419\n",
      "F1 Score: 0.8234217769309048\n",
      "AUC: 0.9025801359134691\n"
     ]
    }
   ],
   "source": [
    "np.random.seed(42)\n",
    "\n",
    "# Create an instance of the Random Forest classifier\n",
    "random_forest = RandomForestClassifier(**best_params_rf)\n",
    "\n",
    "# Define the scoring metrics\n",
    "scoring_metrics = ['accuracy', 'precision', 'recall', 'f1', 'roc_auc']\n",
    "\n",
    "# Perform cross-validation and get the scores\n",
    "cv_results = cross_validate(random_forest, X_train, y_train, cv=5, scoring=scoring_metrics, return_train_score=True)\n",
    "\n",
    "# Print the evaluation metrics for training folds\n",
    "print(\"Training Fold Evaluation Metrics:\")\n",
    "print(\"Accuracy:\", cv_results['train_accuracy'].mean())\n",
    "print(\"Precision:\", cv_results['train_precision'].mean())\n",
    "print(\"Recall:\", cv_results['train_recall'].mean())\n",
    "print(\"F1 Score:\", cv_results['train_f1'].mean())\n",
    "print(\"AUC:\", cv_results['train_roc_auc'].mean())\n",
    "\n",
    "# Print the evaluation metrics for validation folds\n",
    "print(\"\\nValidation Metrics:\")\n",
    "print(\"Accuracy:\", cv_results['test_accuracy'].mean())\n",
    "print(\"Precision:\", cv_results['test_precision'].mean())\n",
    "print(\"Recall:\", cv_results['test_recall'].mean())\n",
    "print(\"F1 Score:\", cv_results['test_f1'].mean())\n",
    "print(\"AUC:\", cv_results['test_roc_auc'].mean())"
   ]
  },
  {
   "cell_type": "markdown",
   "id": "57e3893d",
   "metadata": {},
   "source": [
    "Scores did not improve, original RF will be used"
   ]
  },
  {
   "cell_type": "code",
   "execution_count": 57,
   "id": "f332210f",
   "metadata": {},
   "outputs": [],
   "source": [
    "random_forest = RandomForestClassifier()"
   ]
  },
  {
   "cell_type": "markdown",
   "id": "8d8791f3",
   "metadata": {},
   "source": [
    "## Ensemble (by majority vote)"
   ]
  },
  {
   "cell_type": "code",
   "execution_count": 58,
   "id": "21a27c6a",
   "metadata": {},
   "outputs": [],
   "source": [
    "def evaluate_majority_vote_kfold(X_train, X_train_d, y_train, logistic_regression, *models, random_seed=24):\n",
    "    \"\"\"\n",
    "    Performs k-fold cross-validation with majority voting on a combination of models.\n",
    "\n",
    "    Parameters:\n",
    "        X_train (pandas.DataFrame): The input training data.\n",
    "        X_train_d (pandas.DataFrame): The transformed training data specific to logistic regression.\n",
    "        y_train (pandas.Series): The target training labels.\n",
    "        logistic_regression: The logistic regression model object.\n",
    "        *models: Variable number of model objects or references to be used in majority voting.\n",
    "        random_seed (int): Random seed for reproducibility. \n",
    "\n",
    "    Returns:\n",
    "        float: The average F1 score on the validation data across all folds.\n",
    "\n",
    "\n",
    "    \"\"\"    \n",
    "    \n",
    "    kf = KFold(n_splits=5, shuffle=True, random_state=random_seed)\n",
    "\n",
    "    accuracy_train_scores = []\n",
    "    precision_train_scores = []\n",
    "    recall_train_scores = []\n",
    "    f1_train_scores = []\n",
    "    auc_train_scores = []\n",
    "\n",
    "    accuracy_val_scores = []\n",
    "    precision_val_scores = []\n",
    "    recall_val_scores = []\n",
    "    f1_val_scores = []\n",
    "    auc_val_scores = []\n",
    "\n",
    "    X_train.reset_index(drop=True, inplace=True)\n",
    "    X_train_d.reset_index(drop=True, inplace=True)\n",
    "    y_train.reset_index(drop=True, inplace=True)\n",
    "\n",
    "    for train_index, val_index in kf.split(X_train):\n",
    "        X_train_fold, X_train_d_fold = X_train.loc[train_index], X_train_d.loc[train_index]\n",
    "        X_val_fold, X_val_d_fold = X_train.loc[val_index], X_train_d.loc[val_index]\n",
    "        y_train_fold = y_train.loc[train_index]\n",
    "        y_val_fold = y_train.loc[val_index]\n",
    "\n",
    "        # Separate datasets for logistic regression and other models\n",
    "        X_train_logistic = X_train_d_fold\n",
    "        X_train_other = X_train_fold\n",
    "        X_val_logistic = X_val_d_fold\n",
    "        X_val_other = X_val_fold\n",
    "\n",
    "        # Define scoring metrics\n",
    "        scoring_metrics = ['accuracy', 'precision', 'recall', 'f1', 'roc_auc']\n",
    "\n",
    "        # List to store the predictions of each model\n",
    "        all_predictions_train = []\n",
    "        all_predictions_val = []\n",
    "\n",
    "        # Fit and predict for logistic regression\n",
    "        logistic_regression.fit(X_train_logistic, y_train_fold)\n",
    "        y_pred_train_logistic = logistic_regression.predict(X_train_logistic)\n",
    "        y_pred_val_logistic = logistic_regression.predict(X_val_logistic)\n",
    "        all_predictions_train.append(y_pred_train_logistic)\n",
    "        all_predictions_val.append(y_pred_val_logistic)\n",
    "\n",
    "        # Fit and predict for other models\n",
    "        for model in models:\n",
    "            model.fit(X_train_other, y_train_fold)\n",
    "            y_pred_train_other = model.predict(X_train_other)\n",
    "            y_pred_val_other = model.predict(X_val_other)\n",
    "            all_predictions_train.append(y_pred_train_other)\n",
    "            all_predictions_val.append(y_pred_val_other)\n",
    "\n",
    "        # Perform majority voting on the training predictions\n",
    "        y_pred_majority_vote_train = np.apply_along_axis(lambda x: np.argmax(np.bincount(x)), axis=0, arr=all_predictions_train)\n",
    "        y_pred_majority_vote_val = np.apply_along_axis(lambda x: np.argmax(np.bincount(x)), axis=0, arr=all_predictions_val)\n",
    "\n",
    "        # Calculate evaluation metrics for the majority vote predictions on the training data\n",
    "        accuracy_train = accuracy_score(y_train_fold, y_pred_majority_vote_train)\n",
    "        precision_train = precision_score(y_train_fold, y_pred_majority_vote_train)\n",
    "        recall_train = recall_score(y_train_fold, y_pred_majority_vote_train)\n",
    "        f1_train = f1_score(y_train_fold, y_pred_majority_vote_train)\n",
    "        auc_train = roc_auc_score(y_train_fold, y_pred_majority_vote_train)\n",
    "\n",
    "        # Calculate evaluation metrics for the majority vote predictions on the validation data\n",
    "        accuracy_val = accuracy_score(y_val_fold, y_pred_majority_vote_val)\n",
    "        precision_val = precision_score(y_val_fold, y_pred_majority_vote_val)\n",
    "        recall_val = recall_score(y_val_fold, y_pred_majority_vote_val)\n",
    "        f1_val = f1_score(y_val_fold, y_pred_majority_vote_val)\n",
    "        auc_val = roc_auc_score(y_val_fold, y_pred_majority_vote_val)\n",
    "\n",
    "        accuracy_train_scores.append(accuracy_train)\n",
    "        precision_train_scores.append(precision_train)\n",
    "        recall_train_scores.append(recall_train)\n",
    "        f1_train_scores.append(f1_train)\n",
    "        auc_train_scores.append(auc_train)\n",
    "\n",
    "        accuracy_val_scores.append(accuracy_val)\n",
    "        precision_val_scores.append(precision_val)\n",
    "        recall_val_scores.append(recall_val)\n",
    "        f1_val_scores.append(f1_val)\n",
    "        auc_val_scores.append(auc_val)\n",
    "\n",
    "    # Calculate average scores across all folds\n",
    "    avg_accuracy_train = np.mean(accuracy_train_scores)\n",
    "    avg_precision_train = np.mean(precision_train_scores)\n",
    "    avg_recall_train = np.mean(recall_train_scores)\n",
    "    avg_f1_train = np.mean(f1_train_scores)\n",
    "    avg_auc_train = np.mean(auc_train_scores)\n",
    "\n",
    "    avg_accuracy_val = np.mean(accuracy_val_scores)\n",
    "    avg_precision_val = np.mean(precision_val_scores)\n",
    "    avg_recall_val = np.mean(recall_val_scores)\n",
    "    avg_f1_val = np.mean(f1_val_scores)\n",
    "    avg_auc_val = np.mean(auc_val_scores)\n",
    "\n",
    "    # Print the average scores\n",
    "    print(\"Average Training Evaluation Metrics (Majority Vote):\")\n",
    "    print(\"Accuracy:\", avg_accuracy_train)\n",
    "    print(\"Precision:\", avg_precision_train)\n",
    "    print(\"Recall:\", avg_recall_train)\n",
    "    print(\"F1 Score:\", avg_f1_train)\n",
    "    print(\"AUC:\", avg_auc_train)\n",
    "\n",
    "    print(\"\\nAverage Validation Evaluation Metrics (Majority Vote):\")\n",
    "    print(\"Accuracy:\", avg_accuracy_val)\n",
    "    print(\"Precision:\", avg_precision_val)\n",
    "    print(\"Recall:\", avg_recall_val)\n",
    "    print(\"F1 Score:\", avg_f1_val)\n",
    "    print(\"AUC:\", avg_auc_val, \"\\n\")\n",
    "    \n",
    "    return avg_f1_val\n",
    "    \n"
   ]
  },
  {
   "cell_type": "code",
   "execution_count": 59,
   "id": "f093046c",
   "metadata": {
    "scrolled": true
   },
   "outputs": [
    {
     "name": "stdout",
     "output_type": "stream",
     "text": [
      "Average Training Evaluation Metrics (Majority Vote):\n",
      "Accuracy: 0.9266385342663319\n",
      "Precision: 0.9182345892697837\n",
      "Recall: 0.9510052142127614\n",
      "F1 Score: 0.9343230502114975\n",
      "AUC: 0.9238960847861456\n",
      "\n",
      "Average Validation Evaluation Metrics (Majority Vote):\n",
      "Accuracy: 0.8428571428571429\n",
      "Precision: 0.8337102552619793\n",
      "Recall: 0.8931698595146871\n",
      "F1 Score: 0.8616598556647247\n",
      "AUC: 0.8349664566972228 \n",
      "\n"
     ]
    },
    {
     "data": {
      "text/plain": [
       "0.8616598556647247"
      ]
     },
     "execution_count": 59,
     "metadata": {},
     "output_type": "execute_result"
    }
   ],
   "source": [
    "models = [knn,random_forest,adaboost,naive_bayes]\n",
    "evaluate_majority_vote_kfold(X_train, X_train_d, y_train, logistic_regression, *models)"
   ]
  },
  {
   "cell_type": "markdown",
   "id": "0ca9fa78",
   "metadata": {},
   "source": [
    "## Ensemble Optimization\n",
    "Finds the best combination of models for the ensemble"
   ]
  },
  {
   "cell_type": "code",
   "execution_count": 60,
   "id": "067cd844",
   "metadata": {
    "scrolled": true
   },
   "outputs": [
    {
     "name": "stdout",
     "output_type": "stream",
     "text": [
      "Average Training Evaluation Metrics (Majority Vote):\n",
      "Accuracy: 0.9359435927567972\n",
      "Precision: 1.0\n",
      "Recall: 0.8834932537762727\n",
      "F1 Score: 0.9381184855124787\n",
      "AUC: 0.9417466268881363\n",
      "\n",
      "Average Validation Evaluation Metrics (Majority Vote):\n",
      "Accuracy: 0.8141156462585034\n",
      "Precision: 0.8303533916605446\n",
      "Recall: 0.8332362707535121\n",
      "F1 Score: 0.8307692307692307\n",
      "AUC: 0.8102628202113722 \n",
      "\n",
      "Average Training Evaluation Metrics (Majority Vote):\n",
      "Accuracy: 0.9359435927567972\n",
      "Precision: 1.0\n",
      "Recall: 0.8834932537762727\n",
      "F1 Score: 0.9381184855124787\n",
      "AUC: 0.9417466268881363\n",
      "\n",
      "Average Validation Evaluation Metrics (Majority Vote):\n",
      "Accuracy: 0.8180272108843537\n",
      "Precision: 0.8716908212560387\n",
      "Recall: 0.7886283524904215\n",
      "F1 Score: 0.8266336996336996\n",
      "AUC: 0.8212124495965731 \n",
      "\n",
      "Average Training Evaluation Metrics (Majority Vote):\n",
      "Accuracy: 0.8512258960525614\n",
      "Precision: 0.871705268464425\n",
      "Recall: 0.8553284416491962\n",
      "F1 Score: 0.8633834557974629\n",
      "AUC: 0.8508416243708871\n",
      "\n",
      "Average Validation Evaluation Metrics (Majority Vote):\n",
      "Accuracy: 0.8305272108843538\n",
      "Precision: 0.8621326089092205\n",
      "Recall: 0.8263397190293741\n",
      "F1 Score: 0.8427493050860189\n",
      "AUC: 0.8300618919673604 \n",
      "\n",
      "Average Training Evaluation Metrics (Majority Vote):\n",
      "Accuracy: 0.8502003098125099\n",
      "Precision: 0.8831958852944235\n",
      "Recall: 0.838341934096651\n",
      "F1 Score: 0.8601631121474227\n",
      "AUC: 0.8514689265956836\n",
      "\n",
      "Average Validation Evaluation Metrics (Majority Vote):\n",
      "Accuracy: 0.8264455782312925\n",
      "Precision: 0.8750363077782433\n",
      "Recall: 0.8036066411238825\n",
      "F1 Score: 0.8346938775510205\n",
      "AUC: 0.8270685587562412 \n",
      "\n",
      "Average Training Evaluation Metrics (Majority Vote):\n",
      "Accuracy: 1.0\n",
      "Precision: 1.0\n",
      "Recall: 1.0\n",
      "F1 Score: 1.0\n",
      "AUC: 1.0\n",
      "\n",
      "Average Validation Evaluation Metrics (Majority Vote):\n",
      "Accuracy: 0.8181972789115648\n",
      "Precision: 0.811452380952381\n",
      "Recall: 0.8714584929757343\n",
      "F1 Score: 0.8399681356189731\n",
      "AUC: 0.8106720382498809 \n",
      "\n",
      "Average Training Evaluation Metrics (Majority Vote):\n",
      "Accuracy: 0.9028844613001443\n",
      "Precision: 0.8828581392668629\n",
      "Recall: 0.9490821372896845\n",
      "F1 Score: 0.914741016951665\n",
      "AUC: 0.8977184721911311\n",
      "\n",
      "Average Validation Evaluation Metrics (Majority Vote):\n",
      "Accuracy: 0.8388605442176871\n",
      "Precision: 0.8236196784305795\n",
      "Recall: 0.9011698595146871\n",
      "F1 Score: 0.8595885492993391\n",
      "AUC: 0.8298755476063138 \n",
      "\n",
      "Average Training Evaluation Metrics (Majority Vote):\n",
      "Accuracy: 0.888419422039421\n",
      "Precision: 0.8911511922642268\n",
      "Recall: 0.907919421598667\n",
      "F1 Score: 0.899449265741185\n",
      "AUC: 0.8862576703466916\n",
      "\n",
      "Average Validation Evaluation Metrics (Majority Vote):\n",
      "Accuracy: 0.8222789115646257\n",
      "Precision: 0.8092020335985854\n",
      "Recall: 0.8868659003831418\n",
      "F1 Score: 0.845978723192853\n",
      "AUC: 0.8140279158666279 \n",
      "\n",
      "Average Training Evaluation Metrics (Majority Vote):\n",
      "Accuracy: 0.9028844613001443\n",
      "Precision: 0.8828581392668629\n",
      "Recall: 0.9490821372896845\n",
      "F1 Score: 0.914741016951665\n",
      "AUC: 0.8977184721911311\n",
      "\n",
      "Average Validation Evaluation Metrics (Majority Vote):\n",
      "Accuracy: 0.826530612244898\n",
      "Precision: 0.8287994067482387\n",
      "Recall: 0.8640510855683269\n",
      "F1 Score: 0.8457924297924297\n",
      "AUC: 0.8211247730733252 \n",
      "\n",
      "Average Training Evaluation Metrics (Majority Vote):\n",
      "Accuracy: 0.888419422039421\n",
      "Precision: 0.8911511922642268\n",
      "Recall: 0.907919421598667\n",
      "F1 Score: 0.899449265741185\n",
      "AUC: 0.8862576703466916\n",
      "\n",
      "Average Validation Evaluation Metrics (Majority Vote):\n",
      "Accuracy: 0.8140306122448979\n",
      "Precision: 0.8240885780885782\n",
      "Recall: 0.8486436781609197\n",
      "F1 Score: 0.8345572089616831\n",
      "AUC: 0.8074402081256024 \n",
      "\n",
      "Average Training Evaluation Metrics (Majority Vote):\n",
      "Accuracy: 0.8471075263073553\n",
      "Precision: 0.8348127420745772\n",
      "Recall: 0.9003709079180778\n",
      "F1 Score: 0.8662977406671383\n",
      "AUC: 0.8411450904198782\n",
      "\n",
      "Average Validation Evaluation Metrics (Majority Vote):\n",
      "Accuracy: 0.8346088435374149\n",
      "Precision: 0.8325521802590767\n",
      "Recall: 0.8794584929757343\n",
      "F1 Score: 0.8546399514268366\n",
      "AUC: 0.8283084018862444 \n",
      "\n",
      "Average Training Evaluation Metrics (Majority Vote):\n",
      "Accuracy: 0.9721008493136051\n",
      "Precision: 1.0\n",
      "Recall: 0.9490821372896845\n",
      "F1 Score: 0.973818401802226\n",
      "AUC: 0.9745410686448424\n",
      "\n",
      "Average Validation Evaluation Metrics (Majority Vote):\n",
      "Accuracy: 0.8389455782312926\n",
      "Precision: 0.846834797650015\n",
      "Recall: 0.8635402298850575\n",
      "F1 Score: 0.8538486212782532\n",
      "AUC: 0.8343080804095561 \n",
      "\n",
      "Average Training Evaluation Metrics (Majority Vote):\n",
      "Accuracy: 0.9493777041824689\n",
      "Precision: 1.0\n",
      "Recall: 0.907919421598667\n",
      "F1 Score: 0.9517250294354589\n",
      "AUC: 0.9539597107993334\n",
      "\n",
      "Average Validation Evaluation Metrics (Majority Vote):\n",
      "Accuracy: 0.8181972789115646\n",
      "Precision: 0.8335317460317461\n",
      "Recall: 0.841236270753512\n",
      "F1 Score: 0.8360078558535646\n",
      "AUC: 0.8135451168620899 \n",
      "\n",
      "Average Training Evaluation Metrics (Majority Vote):\n",
      "Accuracy: 0.8987500667699375\n",
      "Precision: 0.9140901203263965\n",
      "Recall: 0.9003709079180778\n",
      "F1 Score: 0.9071658582604224\n",
      "AUC: 0.8985789316388036\n",
      "\n",
      "Average Validation Evaluation Metrics (Majority Vote):\n",
      "Accuracy: 0.8346088435374149\n",
      "Precision: 0.8369708994708993\n",
      "Recall: 0.8714584929757343\n",
      "F1 Score: 0.8531432957415017\n",
      "AUC: 0.828656227973201 \n",
      "\n",
      "Average Training Evaluation Metrics (Majority Vote):\n",
      "Accuracy: 0.8987500667699375\n",
      "Precision: 0.9140901203263965\n",
      "Recall: 0.9003709079180778\n",
      "F1 Score: 0.9071658582604224\n",
      "AUC: 0.8985789316388036\n",
      "\n",
      "Average Validation Evaluation Metrics (Majority Vote):\n",
      "Accuracy: 0.8221938775510205\n",
      "Precision: 0.8480652353723881\n",
      "Recall: 0.825236270753512\n",
      "F1 Score: 0.8354495005549388\n",
      "AUC: 0.8198991838477359 \n",
      "\n",
      "Average Training Evaluation Metrics (Majority Vote):\n",
      "Accuracy: 0.9266385342663319\n",
      "Precision: 0.9182345892697837\n",
      "Recall: 0.9510052142127614\n",
      "F1 Score: 0.9343230502114975\n",
      "AUC: 0.9238960847861456\n",
      "\n",
      "Average Validation Evaluation Metrics (Majority Vote):\n",
      "Accuracy: 0.8346938775510203\n",
      "Precision: 0.826596880131363\n",
      "Recall: 0.8868659003831418\n",
      "F1 Score: 0.8547468854285075\n",
      "AUC: 0.8272690225859956 \n",
      "\n",
      "Best combination of models (Pipeline(steps=[('standardscaler', StandardScaler()),\n",
      "                ('kneighborsclassifier',\n",
      "                 KNeighborsClassifier(n_neighbors=21, p=1,\n",
      "                                      weights='distance'))]), AdaBoostClassifier(learning_rate=0.01, n_estimators=200))\n",
      "F1 score: 0.8595885492993391\n"
     ]
    }
   ],
   "source": [
    "import itertools\n",
    "\n",
    "np.random.seed(42)\n",
    "\n",
    "models = [knn, random_forest, adaboost, naive_bayes]\n",
    "model_combinations = []\n",
    "best_f1 = 0\n",
    "best_combo = None\n",
    "\n",
    "# Generate all possible combinations of models\n",
    "for r in range(1, len(models) + 1):\n",
    "    model_combinations.extend(itertools.combinations(models, r))\n",
    "\n",
    "# Iterate over each model combination and run evaluate_majority_vote_kfold\n",
    "for combination in model_combinations:\n",
    "    f1_combo = evaluate_majority_vote_kfold(X_train, X_train_d, y_train, logistic_regression, *combination)\n",
    "    if f1_combo > best_f1:\n",
    "        best_f1 = f1_combo\n",
    "        best_combo = combination\n",
    "\n",
    "print(\"Best combination of models\",best_combo)\n",
    "print(\"F1 score:\",best_f1)\n",
    "        \n"
   ]
  },
  {
   "cell_type": "markdown",
   "id": "d0749290",
   "metadata": {},
   "source": [
    "## Best Combo Ensemble\n",
    "NOTE: Logistic Regression was used in every combination"
   ]
  },
  {
   "cell_type": "code",
   "execution_count": 61,
   "id": "226e1e81",
   "metadata": {},
   "outputs": [
    {
     "data": {
      "text/plain": [
       "(Pipeline(steps=[('standardscaler', StandardScaler()),\n",
       "                 ('kneighborsclassifier',\n",
       "                  KNeighborsClassifier(n_neighbors=21, p=1,\n",
       "                                       weights='distance'))]),\n",
       " AdaBoostClassifier(learning_rate=0.01, n_estimators=200))"
      ]
     },
     "execution_count": 61,
     "metadata": {},
     "output_type": "execute_result"
    }
   ],
   "source": [
    "best_combo"
   ]
  },
  {
   "cell_type": "markdown",
   "id": "4bad9c2e",
   "metadata": {},
   "source": [
    "Best combination of models (AdaBoostClassifier(learning_rate=0.01, n_estimators=200), GaussianNB())\n",
    "\n",
    "Average Validation Evaluation Metrics (Majority Vote):\n",
    "\n",
    "Accuracy: 0.8525925925925926\n",
    "\n",
    "Precision: 0.8375916022974845\n",
    "\n",
    "Recall: 0.9084782188737563\n",
    "\n",
    "**F1 Score: 0.8671083818142641**\n",
    "\n",
    "AUC: 0.8509275659079434 "
   ]
  },
  {
   "cell_type": "markdown",
   "id": "fad18222",
   "metadata": {},
   "source": [
    "# Model Selection"
   ]
  },
  {
   "cell_type": "markdown",
   "id": "6d7f3e8d",
   "metadata": {},
   "source": [
    "#### Best models:\n",
    "1. KNN\n",
    " - F1: 0.868\n",
    "2. Best Combo Ensemble (LR + Adaboost + NB)\n",
    " - F1: 0.867\n",
    "3. Full Ensemble (LR + KNN + Adaboost + NB + RF)\n",
    " - F1: 0.862\n",
    "\n",
    "Note: all models are shown on the testing data for comparison"
   ]
  },
  {
   "cell_type": "markdown",
   "id": "78e56e32",
   "metadata": {},
   "source": [
    "# Final model evaluations on the testing-set"
   ]
  },
  {
   "cell_type": "markdown",
   "id": "75902cf9",
   "metadata": {},
   "source": [
    "## Logistic Regression"
   ]
  },
  {
   "cell_type": "code",
   "execution_count": 62,
   "id": "e157574e",
   "metadata": {},
   "outputs": [
    {
     "name": "stdout",
     "output_type": "stream",
     "text": [
      "\n",
      "Testing Evaluation Metrics:\n",
      "Accuracy: 0.8852459016393442\n",
      "Precision: 0.9310344827586207\n",
      "Recall: 0.84375\n",
      "F1 Score: 0.8852459016393444\n",
      "AUC: 0.8873922413793103\n"
     ]
    }
   ],
   "source": [
    "# Fit the classifier on the training data\n",
    "logistic_regression.fit(X_train_d, y_train)\n",
    "\n",
    "y_pred = logistic_regression.predict(X_test_d)\n",
    "\n",
    "# Calculate and print various evaluation metrics\n",
    "accuracy = accuracy_score(y_test, y_pred)\n",
    "precision = precision_score(y_test, y_pred)\n",
    "recall = recall_score(y_test, y_pred)\n",
    "f1 = f1_score(y_test, y_pred)\n",
    "auc_roc = roc_auc_score(y_test, y_pred)\n",
    "\n",
    "# Print the evaluation metrics for testing data\n",
    "print(\"\\nTesting Evaluation Metrics:\")\n",
    "print(\"Accuracy:\", accuracy)\n",
    "print(\"Precision:\", precision)\n",
    "print(\"Recall:\", recall)\n",
    "print(\"F1 Score:\", f1)\n",
    "print(\"AUC:\", auc_roc)\n"
   ]
  },
  {
   "cell_type": "markdown",
   "id": "d2efdeb5",
   "metadata": {},
   "source": [
    "## KNN"
   ]
  },
  {
   "cell_type": "code",
   "execution_count": 63,
   "id": "f3853641",
   "metadata": {
    "scrolled": false
   },
   "outputs": [
    {
     "name": "stdout",
     "output_type": "stream",
     "text": [
      "\n",
      "Testing Evaluation Metrics:\n",
      "Accuracy: 0.8852459016393442\n",
      "Precision: 0.8787878787878788\n",
      "Recall: 0.90625\n",
      "F1 Score: 0.8923076923076922\n",
      "AUC: 0.8841594827586207\n"
     ]
    }
   ],
   "source": [
    "# Fit the classifier on the training data\n",
    "knn.fit(X_train, y_train)\n",
    "\n",
    "y_pred = knn.predict(X_test)\n",
    "\n",
    "# Calculate and print various evaluation metrics\n",
    "accuracy = accuracy_score(y_test, y_pred)\n",
    "precision = precision_score(y_test, y_pred)\n",
    "recall = recall_score(y_test, y_pred)\n",
    "f1 = f1_score(y_test, y_pred)\n",
    "auc_roc = roc_auc_score(y_test, y_pred)\n",
    "\n",
    "# Print the evaluation metrics for testing data\n",
    "print(\"\\nTesting Evaluation Metrics:\")\n",
    "print(\"Accuracy:\", accuracy)\n",
    "print(\"Precision:\", precision)\n",
    "print(\"Recall:\", recall)\n",
    "print(\"F1 Score:\", f1)\n",
    "print(\"AUC:\", auc_roc)"
   ]
  },
  {
   "cell_type": "markdown",
   "id": "90109e74",
   "metadata": {},
   "source": [
    "## Adaboost"
   ]
  },
  {
   "cell_type": "code",
   "execution_count": 64,
   "id": "5c3629f0",
   "metadata": {},
   "outputs": [
    {
     "name": "stdout",
     "output_type": "stream",
     "text": [
      "\n",
      "Testing Evaluation Metrics (Majority Vote):\n",
      "Accuracy: 0.8524590163934426\n",
      "Precision: 0.8484848484848485\n",
      "Recall: 0.875\n",
      "F1 Score: 0.8615384615384615\n",
      "AUC: 0.8512931034482758\n"
     ]
    }
   ],
   "source": [
    "# Fit the classifier on the training data\n",
    "adaboost.fit(X_train, y_train)\n",
    "\n",
    "y_pred = adaboost.predict(X_test)\n",
    "\n",
    "# Calculate and print various evaluation metrics\n",
    "accuracy = accuracy_score(y_test, y_pred)\n",
    "precision = precision_score(y_test, y_pred)\n",
    "recall = recall_score(y_test, y_pred)\n",
    "f1 = f1_score(y_test, y_pred)\n",
    "auc_roc = roc_auc_score(y_test, y_pred)\n",
    "\n",
    "# Print the evaluation metrics for testing data\n",
    "print(\"\\nTesting Evaluation Metrics (Majority Vote):\")\n",
    "print(\"Accuracy:\", accuracy)\n",
    "print(\"Precision:\", precision)\n",
    "print(\"Recall:\", recall)\n",
    "print(\"F1 Score:\", f1)\n",
    "print(\"AUC:\", auc_roc)"
   ]
  },
  {
   "cell_type": "markdown",
   "id": "9a631456",
   "metadata": {},
   "source": [
    "## Naive Bayes"
   ]
  },
  {
   "cell_type": "code",
   "execution_count": 65,
   "id": "ca923370",
   "metadata": {},
   "outputs": [
    {
     "name": "stdout",
     "output_type": "stream",
     "text": [
      "\n",
      "Testing Evaluation Metrics (Majority Vote):\n",
      "Accuracy: 0.8688524590163934\n",
      "Precision: 0.9\n",
      "Recall: 0.84375\n",
      "F1 Score: 0.870967741935484\n",
      "AUC: 0.8701508620689655\n"
     ]
    }
   ],
   "source": [
    "naive_bayes = GaussianNB(**best_params_NB)\n",
    "\n",
    "# Fit the classifier on the training data\n",
    "naive_bayes.fit(X_train, y_train)\n",
    "\n",
    "y_pred = naive_bayes.predict(X_test)\n",
    "\n",
    "# Calculate and print various evaluation metrics\n",
    "accuracy = accuracy_score(y_test, y_pred)\n",
    "precision = precision_score(y_test, y_pred)\n",
    "recall = recall_score(y_test, y_pred)\n",
    "f1 = f1_score(y_test, y_pred)\n",
    "auc_roc = roc_auc_score(y_test, y_pred)\n",
    "\n",
    "# Print the evaluation metrics for testing data\n",
    "print(\"\\nTesting Evaluation Metrics (Majority Vote):\")\n",
    "print(\"Accuracy:\", accuracy)\n",
    "print(\"Precision:\", precision)\n",
    "print(\"Recall:\", recall)\n",
    "print(\"F1 Score:\", f1)\n",
    "print(\"AUC:\", auc_roc)"
   ]
  },
  {
   "cell_type": "markdown",
   "id": "830c346c",
   "metadata": {},
   "source": [
    "## RF"
   ]
  },
  {
   "cell_type": "code",
   "execution_count": 66,
   "id": "fed51dd9",
   "metadata": {},
   "outputs": [
    {
     "name": "stdout",
     "output_type": "stream",
     "text": [
      "\n",
      "Testing Evaluation Metrics (Majority Vote):\n",
      "Accuracy: 0.8524590163934426\n",
      "Precision: 0.8484848484848485\n",
      "Recall: 0.875\n",
      "F1 Score: 0.8615384615384615\n",
      "AUC: 0.8512931034482758\n"
     ]
    }
   ],
   "source": [
    "np.random.seed(42)\n",
    "\n",
    "# Fit the classifier on the training data\n",
    "random_forest.fit(X_train, y_train)\n",
    "\n",
    "y_pred = random_forest.predict(X_test)\n",
    "\n",
    "# Calculate and print various evaluation metrics\n",
    "accuracy = accuracy_score(y_test, y_pred)\n",
    "precision = precision_score(y_test, y_pred)\n",
    "recall = recall_score(y_test, y_pred)\n",
    "f1 = f1_score(y_test, y_pred)\n",
    "auc_roc = roc_auc_score(y_test, y_pred)\n",
    "\n",
    "# Print the evaluation metrics for testing data\n",
    "print(\"\\nTesting Evaluation Metrics (Majority Vote):\")\n",
    "print(\"Accuracy:\", accuracy)\n",
    "print(\"Precision:\", precision)\n",
    "print(\"Recall:\", recall)\n",
    "print(\"F1 Score:\", f1)\n",
    "print(\"AUC:\", auc_roc)"
   ]
  },
  {
   "cell_type": "markdown",
   "id": "74feb47a",
   "metadata": {},
   "source": [
    "## Ensemble"
   ]
  },
  {
   "cell_type": "code",
   "execution_count": 67,
   "id": "28c14388",
   "metadata": {
    "scrolled": true
   },
   "outputs": [
    {
     "name": "stdout",
     "output_type": "stream",
     "text": [
      "Training Evaluation Metrics (Majority Vote):\n",
      "Accuracy: 0.9214876033057852\n",
      "Precision: 0.9191176470588235\n",
      "Recall: 0.9398496240601504\n",
      "F1 Score: 0.929368029739777\n",
      "AUC: 0.9194660964337449\n",
      "\n",
      "Testing Evaluation Metrics (Majority Vote):\n",
      "Accuracy: 0.8852459016393442\n",
      "Precision: 0.8787878787878788\n",
      "Recall: 0.90625\n",
      "F1 Score: 0.8923076923076922\n",
      "AUC: 0.8841594827586207\n"
     ]
    }
   ],
   "source": [
    "# Separate datasets for logistic regression and other models\n",
    "X_train_logistic = X_train_d\n",
    "X_train_other = X_train\n",
    "X_test_logistic = X_test_d\n",
    "X_test_other = X_test\n",
    "\n",
    "\n",
    "# Define scoring metrics\n",
    "scoring_metrics = ['accuracy', 'precision', 'recall', 'f1', 'roc_auc']\n",
    "\n",
    "# List to store the predictions of each model\n",
    "all_predictions_train = []\n",
    "all_predictions_test = []\n",
    "\n",
    "# Fit and predict for logistic regression\n",
    "logistic_regression.fit(X_train_logistic, y_train)\n",
    "y_pred_train_logistic = logistic_regression.predict(X_train_logistic)\n",
    "y_pred_test_logistic = logistic_regression.predict(X_test_logistic)\n",
    "all_predictions_train.append(y_pred_train_logistic)\n",
    "all_predictions_test.append(y_pred_test_logistic)\n",
    "\n",
    "# Fit and predict for other models\n",
    "for model in [knn, random_forest, adaboost, naive_bayes]:\n",
    "    model.fit(X_train_other, y_train)\n",
    "    y_pred_train_other = model.predict(X_train_other)\n",
    "    y_pred_test_other = model.predict(X_test_other)\n",
    "    all_predictions_train.append(y_pred_train_other)\n",
    "    all_predictions_test.append(y_pred_test_other)\n",
    "\n",
    "# Perform majority voting on the training predictions\n",
    "y_pred_majority_vote_train = np.apply_along_axis(lambda x: np.argmax(np.bincount(x)), axis=0, arr=all_predictions_train)\n",
    "y_pred_majority_vote_test = np.apply_along_axis(lambda x: np.argmax(np.bincount(x)), axis=0, arr=all_predictions_test)\n",
    "\n",
    "# Calculate evaluation metrics for the majority vote predictions on the training data\n",
    "accuracy_train = accuracy_score(y_train, y_pred_majority_vote_train)\n",
    "precision_train = precision_score(y_train, y_pred_majority_vote_train)\n",
    "recall_train = recall_score(y_train, y_pred_majority_vote_train)\n",
    "f1_train = f1_score(y_train, y_pred_majority_vote_train)\n",
    "auc_train = roc_auc_score(y_train, y_pred_majority_vote_train)\n",
    "\n",
    "# Calculate evaluation metrics for the majority vote predictions on the testing data\n",
    "accuracy_test = accuracy_score(y_test, y_pred_majority_vote_test)\n",
    "precision_test = precision_score(y_test, y_pred_majority_vote_test)\n",
    "recall_test = recall_score(y_test, y_pred_majority_vote_test)\n",
    "f1_test = f1_score(y_test, y_pred_majority_vote_test)\n",
    "auc_test = roc_auc_score(y_test, y_pred_majority_vote_test)\n",
    "\n",
    "# Print the evaluation metrics for training data\n",
    "print(\"Training Evaluation Metrics (Majority Vote):\")\n",
    "print(\"Accuracy:\", accuracy_train)\n",
    "print(\"Precision:\", precision_train)\n",
    "print(\"Recall:\", recall_train)\n",
    "print(\"F1 Score:\", f1_train)\n",
    "print(\"AUC:\", auc_train)\n",
    "\n",
    "# Print the evaluation metrics for testing data\n",
    "print(\"\\nTesting Evaluation Metrics (Majority Vote):\")\n",
    "print(\"Accuracy:\", accuracy_test)\n",
    "print(\"Precision:\", precision_test)\n",
    "print(\"Recall:\", recall_test)\n",
    "print(\"F1 Score:\", f1_test)\n",
    "print(\"AUC:\", auc_test)\n"
   ]
  },
  {
   "cell_type": "markdown",
   "id": "9a4fc62d",
   "metadata": {},
   "source": [
    "## Best Combo Ensemble\n",
    "Logistic Regression, Adaboost, Naive-Bayes"
   ]
  },
  {
   "cell_type": "code",
   "execution_count": 68,
   "id": "286f3cc9",
   "metadata": {},
   "outputs": [
    {
     "name": "stdout",
     "output_type": "stream",
     "text": [
      "Training Evaluation Metrics (Majority Vote):\n",
      "Accuracy: 0.8388429752066116\n",
      "Precision: 0.8263888888888888\n",
      "Recall: 0.8947368421052632\n",
      "F1 Score: 0.8592057761732851\n",
      "AUC: 0.8326895219700629\n",
      "\n",
      "Testing Evaluation Metrics (Majority Vote):\n",
      "Accuracy: 0.9016393442622951\n",
      "Precision: 0.90625\n",
      "Recall: 0.90625\n",
      "F1 Score: 0.90625\n",
      "AUC: 0.9014008620689655\n"
     ]
    }
   ],
   "source": [
    "# Separate datasets for logistic regression and other models\n",
    "X_train_logistic = X_train_d\n",
    "X_train_other = X_train\n",
    "X_test_logistic = X_test_d\n",
    "X_test_other = X_test\n",
    "\n",
    "\n",
    "# Define scoring metrics\n",
    "scoring_metrics = ['accuracy', 'precision', 'recall', 'f1', 'roc_auc']\n",
    "\n",
    "# List to store the predictions of each model\n",
    "all_predictions_train = []\n",
    "all_predictions_test = []\n",
    "\n",
    "# Fit and predict for logistic regression\n",
    "logistic_regression.fit(X_train_logistic, y_train)\n",
    "y_pred_train_logistic = logistic_regression.predict(X_train_logistic)\n",
    "y_pred_test_logistic = logistic_regression.predict(X_test_logistic)\n",
    "all_predictions_train.append(y_pred_train_logistic)\n",
    "all_predictions_test.append(y_pred_test_logistic)\n",
    "\n",
    "# Fit and predict for other models\n",
    "for model in [adaboost,naive_bayes]:\n",
    "    model.fit(X_train_other, y_train)\n",
    "    y_pred_train_other = model.predict(X_train_other)\n",
    "    y_pred_test_other = model.predict(X_test_other)\n",
    "    all_predictions_train.append(y_pred_train_other)\n",
    "    all_predictions_test.append(y_pred_test_other)\n",
    "\n",
    "# Perform majority voting on the training predictions\n",
    "y_pred_majority_vote_train = np.apply_along_axis(lambda x: np.argmax(np.bincount(x)), axis=0, arr=all_predictions_train)\n",
    "y_pred_majority_vote_test = np.apply_along_axis(lambda x: np.argmax(np.bincount(x)), axis=0, arr=all_predictions_test)\n",
    "\n",
    "# Calculate evaluation metrics for the majority vote predictions on the training data\n",
    "accuracy_train = accuracy_score(y_train, y_pred_majority_vote_train)\n",
    "precision_train = precision_score(y_train, y_pred_majority_vote_train)\n",
    "recall_train = recall_score(y_train, y_pred_majority_vote_train)\n",
    "f1_train = f1_score(y_train, y_pred_majority_vote_train)\n",
    "auc_train = roc_auc_score(y_train, y_pred_majority_vote_train)\n",
    "\n",
    "# Calculate evaluation metrics for the majority vote predictions on the testing data\n",
    "accuracy_test = accuracy_score(y_test, y_pred_majority_vote_test)\n",
    "precision_test = precision_score(y_test, y_pred_majority_vote_test)\n",
    "recall_test = recall_score(y_test, y_pred_majority_vote_test)\n",
    "f1_test = f1_score(y_test, y_pred_majority_vote_test)\n",
    "auc_test = roc_auc_score(y_test, y_pred_majority_vote_test)\n",
    "\n",
    "# Print the evaluation metrics for training data\n",
    "print(\"Training Evaluation Metrics (Majority Vote):\")\n",
    "print(\"Accuracy:\", accuracy_train)\n",
    "print(\"Precision:\", precision_train)\n",
    "print(\"Recall:\", recall_train)\n",
    "print(\"F1 Score:\", f1_train)\n",
    "print(\"AUC:\", auc_train)\n",
    "\n",
    "# Print the evaluation metrics for testing data\n",
    "print(\"\\nTesting Evaluation Metrics (Majority Vote):\")\n",
    "print(\"Accuracy:\", accuracy_test)\n",
    "print(\"Precision:\", precision_test)\n",
    "print(\"Recall:\", recall_test)\n",
    "print(\"F1 Score:\", f1_test)\n",
    "print(\"AUC:\", auc_test)\n"
   ]
  },
  {
   "cell_type": "markdown",
   "id": "e7274cb3",
   "metadata": {},
   "source": [
    "## Changing Train-Test Ratio\n",
    "Using full ensemble"
   ]
  },
  {
   "cell_type": "code",
   "execution_count": 69,
   "id": "3f74ad8f",
   "metadata": {
    "scrolled": false
   },
   "outputs": [
    {
     "name": "stdout",
     "output_type": "stream",
     "text": [
      "\n",
      "Train-Test Split Ratio: 0.1\n",
      "Training Evaluation Metrics (Majority Vote):\n",
      "Accuracy: 0.9666666666666667\n",
      "Precision: 0.9411764705882353\n",
      "Recall: 1.0\n",
      "F1 Score: 0.9696969696969697\n",
      "AUC: 0.9642857142857143\n",
      "\n",
      "Testing Evaluation Metrics (Majority Vote):\n",
      "Accuracy: 0.8241758241758241\n",
      "Precision: 0.8389261744966443\n",
      "Recall: 0.8389261744966443\n",
      "F1 Score: 0.8389261744966443\n",
      "AUC: 0.822688893699935\n",
      "\n",
      "Train-Test Split Ratio: 0.3\n",
      "Training Evaluation Metrics (Majority Vote):\n",
      "Accuracy: 0.9222222222222223\n",
      "Precision: 0.92\n",
      "Recall: 0.9387755102040817\n",
      "F1 Score: 0.9292929292929293\n",
      "AUC: 0.9206072672971628\n",
      "\n",
      "Testing Evaluation Metrics (Majority Vote):\n",
      "Accuracy: 0.8309859154929577\n",
      "Precision: 0.8125\n",
      "Recall: 0.896551724137931\n",
      "F1 Score: 0.8524590163934426\n",
      "AUC: 0.82456452186278\n",
      "\n",
      "Train-Test Split Ratio: 0.5\n",
      "Training Evaluation Metrics (Majority Vote):\n",
      "Accuracy: 0.9337748344370861\n",
      "Precision: 0.9397590361445783\n",
      "Recall: 0.9397590361445783\n",
      "F1 Score: 0.9397590361445783\n",
      "AUC: 0.9331148121899363\n",
      "\n",
      "Testing Evaluation Metrics (Majority Vote):\n",
      "Accuracy: 0.8289473684210527\n",
      "Precision: 0.8255813953488372\n",
      "Recall: 0.8658536585365854\n",
      "F1 Score: 0.8452380952380953\n",
      "AUC: 0.8257839721254354\n",
      "\n",
      "Train-Test Split Ratio: 0.7\n",
      "Training Evaluation Metrics (Majority Vote):\n",
      "Accuracy: 0.9339622641509434\n",
      "Precision: 0.9316239316239316\n",
      "Recall: 0.9478260869565217\n",
      "F1 Score: 0.939655172413793\n",
      "AUC: 0.932675930076199\n",
      "\n",
      "Testing Evaluation Metrics (Majority Vote):\n",
      "Accuracy: 0.8351648351648352\n",
      "Precision: 0.8181818181818182\n",
      "Recall: 0.9\n",
      "F1 Score: 0.8571428571428572\n",
      "AUC: 0.8280487804878048\n",
      "\n",
      "Train-Test Split Ratio: 0.8\n",
      "Training Evaluation Metrics (Majority Vote):\n",
      "Accuracy: 0.9214876033057852\n",
      "Precision: 0.9191176470588235\n",
      "Recall: 0.9398496240601504\n",
      "F1 Score: 0.929368029739777\n",
      "AUC: 0.9194660964337449\n",
      "\n",
      "Testing Evaluation Metrics (Majority Vote):\n",
      "Accuracy: 0.8852459016393442\n",
      "Precision: 0.8787878787878788\n",
      "Recall: 0.90625\n",
      "F1 Score: 0.8923076923076922\n",
      "AUC: 0.8841594827586207\n",
      "\n",
      "Train-Test Split Ratio: 0.9\n",
      "Training Evaluation Metrics (Majority Vote):\n",
      "Accuracy: 0.9227941176470589\n",
      "Precision: 0.9205298013245033\n",
      "Recall: 0.9391891891891891\n",
      "F1 Score: 0.9297658862876255\n",
      "AUC: 0.9212074978204009\n",
      "\n",
      "Testing Evaluation Metrics (Majority Vote):\n",
      "Accuracy: 0.7741935483870968\n",
      "Precision: 0.7777777777777778\n",
      "Recall: 0.8235294117647058\n",
      "F1 Score: 0.7999999999999999\n",
      "AUC: 0.7689075630252101\n"
     ]
    },
    {
     "data": {
      "image/png": "[encoded data removed]",
      "text/plain": [
       "<Figure size 1000x600 with 5 Axes>"
      ]
     },
     "metadata": {},
     "output_type": "display_data"
    }
   ],
   "source": [
    "# Define the different train-test split ratios to iterate over\n",
    "train_proportions = [0.1, 0.3, 0.5, 0.7,0.8, 0.9]\n",
    "\n",
    "# Lists to store the performance scores for each split ratio\n",
    "train_scores = []\n",
    "test_scores = []\n",
    "\n",
    "# Iterate over the train-test split ratios\n",
    "for proportion in train_proportions:\n",
    "    # Split the data into train and test sets with the current ratio\n",
    "    X_train, X_test, y_train, y_test = train_test_split(X, y, test_size=1-proportion, random_state=42, shuffle=True)\n",
    "    X_train_d, X_test_d, y_train_d, y_test_d = train_test_split(X_d, y_d, test_size=1-proportion, random_state=42, shuffle=True)\n",
    "    \n",
    "    # Separate datasets for logistic regression and other models\n",
    "    X_train_logistic = X_train_d\n",
    "    X_train_other = X_train\n",
    "    X_test_logistic = X_test_d\n",
    "    X_test_other = X_test\n",
    "    \n",
    "    # Define scoring metrics\n",
    "    scoring_metrics = ['accuracy', 'precision', 'recall', 'f1', 'roc_auc']\n",
    "    \n",
    "    # List to store the predictions of each model\n",
    "    all_predictions_train = []\n",
    "    all_predictions_test = []\n",
    "    \n",
    "    # Fit and predict for logistic regression\n",
    "    logistic_regression.fit(X_train_logistic, y_train)\n",
    "    y_pred_train_logistic = logistic_regression.predict(X_train_logistic)\n",
    "    y_pred_test_logistic = logistic_regression.predict(X_test_logistic)\n",
    "    all_predictions_train.append(y_pred_train_logistic)\n",
    "    all_predictions_test.append(y_pred_test_logistic)\n",
    "    \n",
    "    # Fit and predict for other models\n",
    "    for model in [knn, random_forest, adaboost, naive_bayes]:\n",
    "        model.fit(X_train_other, y_train)\n",
    "        y_pred_train_other = model.predict(X_train_other)\n",
    "        y_pred_test_other = model.predict(X_test_other)\n",
    "        all_predictions_train.append(y_pred_train_other)\n",
    "        all_predictions_test.append(y_pred_test_other)\n",
    "    \n",
    "    # Perform majority voting on the training predictions\n",
    "    y_pred_majority_vote_train = np.apply_along_axis(lambda x: np.argmax(np.bincount(x)), axis=0, arr=all_predictions_train)\n",
    "    y_pred_majority_vote_test = np.apply_along_axis(lambda x: np.argmax(np.bincount(x)), axis=0, arr=all_predictions_test)\n",
    "    \n",
    "    # Calculate evaluation metrics for the majority vote predictions on the training data\n",
    "    accuracy_train = accuracy_score(y_train, y_pred_majority_vote_train)\n",
    "    precision_train = precision_score(y_train, y_pred_majority_vote_train)\n",
    "    recall_train = recall_score(y_train, y_pred_majority_vote_train)\n",
    "    f1_train = f1_score(y_train, y_pred_majority_vote_train)\n",
    "    auc_train = roc_auc_score(y_train, y_pred_majority_vote_train)\n",
    "    \n",
    "    # Calculate evaluation metrics for the majority vote predictions on the testing data\n",
    "    accuracy_test = accuracy_score(y_test, y_pred_majority_vote_test)\n",
    "    precision_test = precision_score(y_test, y_pred_majority_vote_test)\n",
    "    recall_test = recall_score(y_test, y_pred_majority_vote_test)\n",
    "    f1_test = f1_score(y_test, y_pred_majority_vote_test)\n",
    "    auc_test = roc_auc_score(y_test, y_pred_majority_vote_test)\n",
    "    \n",
    "    # Print the evaluation metrics for training data\n",
    "    print(f\"\\nTrain-Test Split Ratio: {proportion}\")\n",
    "    print(\"Training Evaluation Metrics (Majority Vote):\")\n",
    "    print(\"Accuracy:\", accuracy_train)\n",
    "    print(\"Precision:\", precision_train)\n",
    "    print(\"Recall:\", recall_train)\n",
    "    print(\"F1 Score:\", f1_train)\n",
    "    print(\"AUC:\", auc_train)\n",
    "    \n",
    "    # Print the evaluation metrics for testing data\n",
    "    print(\"\\nTesting Evaluation Metrics (Majority Vote):\")\n",
    "    print(\"Accuracy:\", accuracy_test)\n",
    "    print(\"Precision:\", precision_test)\n",
    "    print(\"Recall:\", recall_test)\n",
    "    print(\"F1 Score:\", f1_test)\n",
    "    print(\"AUC:\", auc_test)\n",
    "    \n",
    "    # Store the scores for the current split ratio\n",
    "    train_scores.append([accuracy_train, precision_train, recall_train, f1_train, auc_train])\n",
    "    test_scores.append([accuracy_test, precision_test, recall_test, f1_test, auc_test])\n",
    "\n",
    "# Plot the training and testing performance\n",
    "plt.figure(figsize=(10, 6))\n",
    "metrics = ['Accuracy', 'Precision', 'Recall', 'F1 Score', 'AUC']\n",
    "for i, metric in enumerate(metrics):\n",
    "    plt.subplot(2, 3, i + 1)\n",
    "    plt.plot(train_proportions, [score[i] for score in train_scores], 'bo-', label='Training')\n",
    "    plt.plot(train_proportions, [score[i] for score in test_scores], 'ro-', label='Testing')\n",
    "    plt.title(metric)\n",
    "    plt.xlabel('Train Proportion')\n",
    "    plt.ylabel(metric)\n",
    "    plt.legend()\n",
    "    \n",
    "    # Set tick locations and labels for x-axis\n",
    "    plt.xticks([0.1, 0.3, 0.5, 0.7, 0.8, 0.9])\n",
    "plt.tight_layout()\n",
    "plt.show()\n"
   ]
  },
  {
   "cell_type": "markdown",
   "id": "45936aa4",
   "metadata": {},
   "source": [
    "Original split of 80-20 produces best results, however, that split was used for optimization so it is hard to tell…"
   ]
  },
  {
   "cell_type": "code",
   "execution_count": null,
   "id": "f3db5ea0",
   "metadata": {},
   "outputs": [],
   "source": []
  }
 ],
 "metadata": {
  "kernelspec": {
   "display_name": "Python 3 (ipykernel)",
   "language": "python",
   "name": "python3"
  },
  "language_info": {
   "codemirror_mode": {
    "name": "ipython",
    "version": 3
   },
   "file_extension": ".py",
   "mimetype": "text/x-python",
   "name": "python",
   "nbconvert_exporter": "python",
   "pygments_lexer": "ipython3",
   "version": "3.9.13"
  }
 },
 "nbformat": 4,
 "nbformat_minor": 5
}
